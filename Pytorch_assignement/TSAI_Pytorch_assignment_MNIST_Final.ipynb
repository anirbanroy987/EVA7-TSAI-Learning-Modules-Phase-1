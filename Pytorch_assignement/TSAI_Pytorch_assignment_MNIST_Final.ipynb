{
  "nbformat": 4,
  "nbformat_minor": 0,
  "metadata": {
    "colab": {
      "name": "TSAI -Pytorch-assignment-MNIST-Final.ipynb",
      "provenance": [],
      "collapsed_sections": []
    },
    "kernelspec": {
      "display_name": "Python 3",
      "name": "python3"
    },
    "language_info": {
      "name": "python"
    },
    "accelerator": "GPU"
  },
  "cells": [
    {
      "cell_type": "markdown",
      "metadata": {
        "id": "RwWeCM7FC1w3"
      },
      "source": [
        "### Importing all the pacakges"
      ]
    },
    {
      "cell_type": "code",
      "metadata": {
        "id": "rEpatddvVPV1"
      },
      "source": [
        "import torchvision\n",
        "import torch\n",
        "import torch.nn as nn\n",
        "import torch.nn.functional as F\n",
        "import torch.optim as optim\n",
        "from torch.utils.data import Dataset, DataLoader\n",
        "\n",
        "import torchvision.transforms as T\n",
        "from torchvision import datasets\n",
        "\n",
        "import numpy as np\n",
        "import random\n",
        "import matplotlib.pyplot as plt"
      ],
      "execution_count": null,
      "outputs": []
    },
    {
      "cell_type": "markdown",
      "metadata": {
        "id": "JrbV7wbVC9ev"
      },
      "source": [
        "### Loading the data and then transforming to tensors"
      ]
    },
    {
      "cell_type": "code",
      "metadata": {
        "id": "Tk23sZNrQGr0"
      },
      "source": [
        "mnist_train = datasets.MNIST(root='./data', download=True, train=True, transform=T.ToTensor())\n",
        "mnist_test = datasets.MNIST(root='./data', download=False, train=False, transform=T.ToTensor())"
      ],
      "execution_count": null,
      "outputs": []
    },
    {
      "cell_type": "code",
      "metadata": {
        "id": "mEjcqTU5mA55"
      },
      "source": [
        "train_set = torchvision.datasets.MNIST(\n",
        "    root='./MNISTdata'\n",
        "    ,train=True #Training Data of 60k Images\n",
        "    ,download=True\n",
        ")"
      ],
      "execution_count": null,
      "outputs": []
    },
    {
      "cell_type": "code",
      "metadata": {
        "id": "VRnYy_HxpKHN"
      },
      "source": [
        "def seed_everything(seed):\n",
        "    random.seed(seed)\n",
        "    np.random.seed(seed)\n",
        "    torch.manual_seed(seed)\n",
        "    torch.cuda.manual_seed(seed)\n",
        "    torch.cuda.manual_seed_all(seed)\n",
        "    torch.backends.cudnn.deterministic = True\n",
        "\n",
        "seed_everything(20)"
      ],
      "execution_count": null,
      "outputs": []
    },
    {
      "cell_type": "markdown",
      "metadata": {
        "id": "azUHNYoADEjU"
      },
      "source": [
        "### Generation of the Random Number and also the MNIST dataset."
      ]
    },
    {
      "cell_type": "code",
      "metadata": {
        "id": "aB2kVTTUpLLZ"
      },
      "source": [
        "class MNISTRandGen(Dataset):\n",
        "    def __init__(self, mnist):\n",
        "        self.mnist = mnist\n",
        "\n",
        "    def __len__(self):\n",
        "        return len(self.mnist)\n",
        "\n",
        "    def __getitem__(self, idx):\n",
        "        image, label = self.mnist[idx]\n",
        "\n",
        "        rand_num = random.randint(0, 9)\n",
        "\n",
        "        rand_num_tensor = F.one_hot(torch.tensor(rand_num), num_classes=10)\n",
        "        sum_label = label + rand_num\n",
        "\n",
        "        return image, rand_num_tensor, label, rand_num,sum_label"
      ],
      "execution_count": null,
      "outputs": []
    },
    {
      "cell_type": "code",
      "metadata": {
        "id": "-0wAHIPhpT8f"
      },
      "source": [
        "train_ds = MNISTRandGen(mnist_train)\n",
        "test_ds = MNISTRandGen(mnist_test)"
      ],
      "execution_count": null,
      "outputs": []
    },
    {
      "cell_type": "markdown",
      "metadata": {
        "id": "PEpJzSWiDLH7"
      },
      "source": [
        "### Lets visualize the data we generated"
      ]
    },
    {
      "cell_type": "code",
      "metadata": {
        "colab": {
          "base_uri": "https://localhost:8080/",
          "height": 335
        },
        "id": "5KG8sO-YpWEj",
        "outputId": "dfb8efd9-0edc-4e29-8c6e-a2dc6ef71592"
      },
      "source": [
        "image1 = train_ds[33]\n",
        "plt.imshow(image1[0][0].squeeze(), cmap='gray')\n",
        "print(\"one hot representation of the random number \",image1[1])\n",
        "print(\"random number \" ,image1[3])\n",
        "print(\"Label of the image \",image1[2])\n",
        "print(\"total \",image1[4])\n"
      ],
      "execution_count": null,
      "outputs": [
        {
          "output_type": "stream",
          "name": "stdout",
          "text": [
            "one hot representation of the random number  tensor([0, 0, 0, 0, 0, 0, 1, 0, 0, 0])\n",
            "random number  6\n",
            "Label of the image  9\n",
            "total  15\n"
          ]
        },
        {
          "output_type": "display_data",
          "data": {
            "image/png": "[encoded data removed]",
            "text/plain": [
              "<Figure size 432x288 with 1 Axes>"
            ]
          },
          "metadata": {
            "needs_background": "light"
          }
        }
      ]
    },
    {
      "cell_type": "markdown",
      "metadata": {
        "id": "Z_WBpsldDQW9"
      },
      "source": [
        "### Lets load the data using Data Loader and lets see some random 30 images and also the shape from the random number generator class"
      ]
    },
    {
      "cell_type": "code",
      "metadata": {
        "id": "Jw070pk4TPrX"
      },
      "source": [
        "train_loader = DataLoader(train_ds, 64, shuffle=True, num_workers=2, pin_memory=True)\n",
        "test_loader = DataLoader(test_ds, 64, shuffle=False, num_workers=2, pin_memory=True)"
      ],
      "execution_count": null,
      "outputs": []
    },
    {
      "cell_type": "code",
      "metadata": {
        "id": "R0v_OMoWTJi6"
      },
      "source": [
        "sample = next(iter(train_loader))"
      ],
      "execution_count": null,
      "outputs": []
    },
    {
      "cell_type": "code",
      "metadata": {
        "id": "sZudQbWtTb3E"
      },
      "source": [
        "images, rand_nums, labels, sums,total = sample"
      ],
      "execution_count": null,
      "outputs": []
    },
    {
      "cell_type": "code",
      "metadata": {
        "colab": {
          "base_uri": "https://localhost:8080/"
        },
        "id": "CZjugXxPTz_v",
        "outputId": "b0974955-fd21-4bfb-fb17-e3d7e4019b83"
      },
      "source": [
        "\n",
        "images.shape, rand_nums.shape, labels.shape, sums.shape,total.shape"
      ],
      "execution_count": null,
      "outputs": [
        {
          "output_type": "execute_result",
          "data": {
            "text/plain": [
              "(torch.Size([64, 1, 28, 28]),\n",
              " torch.Size([64, 10]),\n",
              " torch.Size([64]),\n",
              " torch.Size([64]),\n",
              " torch.Size([64]))"
            ]
          },
          "metadata": {},
          "execution_count": 101
        }
      ]
    },
    {
      "cell_type": "code",
      "metadata": {
        "colab": {
          "base_uri": "https://localhost:8080/",
          "height": 322
        },
        "id": "Qqeeerw5UEND",
        "outputId": "d8567c6c-5abe-4d63-bbd4-ae1436d4cd6f"
      },
      "source": [
        "import numpy as np\n",
        "\n",
        "grid = torchvision.utils.make_grid(images[:30], nrow=10)\n",
        "plt.figure(figsize=(15,15))\n",
        "# Torch Has Channel x Width x Heigth\n",
        "# Coverting it to Width x Heigth x Channels using Transpose\n",
        "plt.imshow(np.transpose(grid, (1,2,0))) \n",
        "print('labels:', labels[:30])"
      ],
      "execution_count": null,
      "outputs": [
        {
          "output_type": "stream",
          "name": "stdout",
          "text": [
            "labels: tensor([2, 2, 5, 0, 1, 4, 4, 4, 5, 2, 2, 1, 2, 0, 9, 7, 9, 2, 7, 9, 1, 2, 2, 7, 7, 0, 4, 8, 5, 2])\n"
          ]
        },
        {
          "output_type": "display_data",
          "data": {
            "image/png": "[encoded data removed]",
            "text/plain": [
              "<Figure size 1080x1080 with 1 Axes>"
            ]
          },
          "metadata": {
            "needs_background": "light"
          }
        }
      ]
    },
    {
      "cell_type": "markdown",
      "metadata": {
        "id": "o5BvBa4VDb1K"
      },
      "source": [
        "### Checking which GPU/CPU is running"
      ]
    },
    {
      "cell_type": "code",
      "metadata": {
        "colab": {
          "base_uri": "https://localhost:8080/"
        },
        "id": "RrcZ8VkjpkAR",
        "outputId": "90c1ba2b-8e3a-4a5f-9cf8-7237845f5755"
      },
      "source": [
        "def get_default_device():\n",
        "    \"\"\"\n",
        "    Pick GPU if available, else CPU.\n",
        "    \"\"\"\n",
        "    if torch.cuda.is_available():\n",
        "        return torch.device('cuda')\n",
        "    else:\n",
        "        return torch.device('cpu')\n",
        "\n",
        "device = get_default_device()\n",
        "device"
      ],
      "execution_count": null,
      "outputs": [
        {
          "output_type": "execute_result",
          "data": {
            "text/plain": [
              "device(type='cuda')"
            ]
          },
          "metadata": {},
          "execution_count": 7
        }
      ]
    },
    {
      "cell_type": "markdown",
      "metadata": {
        "id": "N5p8lMBjDi3a"
      },
      "source": [
        "### Creating a Neural Network Class which contains convuluted and fully connected layers"
      ]
    },
    {
      "cell_type": "code",
      "metadata": {
        "id": "_NfisgZ5eTHw"
      },
      "source": [
        "import torch.nn as nn\n",
        "import torch.nn.functional as F\n",
        "\n",
        "class Network(nn.Module):\n",
        "    def __init__(self):\n",
        "        super(Network, self).__init__()\n",
        "      \n",
        "        self.conv1 = nn.Conv2d(1, 16, 3, padding=1) # 28x28x1 -> 28x28x16\n",
        "        self.conv2 = nn.Conv2d(16, 32, 3, padding=1) # 28x28x1 -> 28x28x32\n",
        "        self.pool1 = nn.MaxPool2d(2,2) # 28x28x32 -> 14x14x32\n",
        "        self.conv3 = nn.Conv2d(32, 64, 3, padding=1) # 14x14x32 -> 14x14x64\n",
        "        self.conv4 = nn.Conv2d(64, 64, 3, padding=1) # 14x14x64 -> 14x14x64\n",
        "        self.pool2 = nn.MaxPool2d(2,2) # 14x14x64 -> 7x7x64\n",
        "        self.conv5 = nn.Conv2d(64, 128, 3) # 7x7x64 -> 5x5x128\n",
        "        self.conv6 = nn.Conv2d(128, 256, 3) # 5x5x128 -> 3x3x256\n",
        "        self.conv7 = nn.Conv2d(256, 10, 3) # 3x3x10 -> 1x1x10\n",
        "\n",
        "        self.layer1 = nn.Linear(20,19,bias=False)\n",
        "\n",
        "\n",
        "    def forward(self, x, y):\n",
        "        x = self.pool1(F.relu(self.conv2(F.relu(self.conv1(x)))))\n",
        "        x = self.pool2(F.relu(self.conv4(F.relu(self.conv3(x)))))\n",
        "        x = F.relu(self.conv6(F.relu(self.conv5(x))))\n",
        "        x = self.conv7(x)\n",
        "        x = x.view(-1, 10)\n",
        "#connecting the random number input and also the predicted image input when they have the same size\n",
        "\n",
        "        y = torch.cat((x,y),dim=1) #Horizontal Stacking. 1x10 and 1x10 -> 1x20\n",
        "\n",
        "\n",
        "        y = self.layer1(y)\n",
        "     \n",
        "\n",
        "        return F.log_softmax(x, dim=1), F.log_softmax(y, dim=1)"
      ],
      "execution_count": null,
      "outputs": []
    },
    {
      "cell_type": "code",
      "metadata": {
        "id": "OT4saCfCekDS"
      },
      "source": [
        "from torch.utils.data import Dataset, DataLoader\n",
        "import random, math\n",
        "\n",
        "class RandomNumGen(Dataset):\n",
        "  \n",
        "    def __init__(self, MNIST_data):\n",
        "        self.MNIST = MNIST_data\n",
        "       \n",
        "    \n",
        "    def __getitem__(self, index):\n",
        "        image, label = self.MNIST[index]\n",
        "        number = random.randint(0,9)\n",
        "        \n",
        "        ohv_num = torch.zeros(10)\n",
        "        ohv_num[number] = 1\n",
        "\n",
        "\n",
        "        return ((image,ohv_num), (label,number+label))\n",
        "\n",
        "    def __len__(self):\n",
        "        return len(self.MNIST)"
      ],
      "execution_count": null,
      "outputs": []
    },
    {
      "cell_type": "code",
      "metadata": {
        "id": "K_AQpxBhgSfA"
      },
      "source": [
        "train_ds = RandomNumGen(mnist_train)\n",
        "test_ds = RandomNumGen(mnist_test)"
      ],
      "execution_count": null,
      "outputs": []
    },
    {
      "cell_type": "code",
      "metadata": {
        "id": "GCz9chyQgNyC"
      },
      "source": [
        "train_loader = DataLoader(train_ds, 64, shuffle=True, num_workers=2, pin_memory=True)\n",
        "test_loader = DataLoader(test_ds, 64, shuffle=False, num_workers=2, pin_memory=True)"
      ],
      "execution_count": null,
      "outputs": []
    },
    {
      "cell_type": "markdown",
      "metadata": {
        "id": "_Tf0iQwxD8rB"
      },
      "source": [
        "### Train and Test functions using NLL loss and summed evaluation"
      ]
    },
    {
      "cell_type": "code",
      "metadata": {
        "id": "rmicu7uaeYTA"
      },
      "source": [
        "\n",
        "def train(model, train_loader, optimizer):\n",
        "    model.train()\n",
        "    pbar = tqdm(train_loader)\n",
        "    for batch_idx, (data, target) in enumerate(pbar):\n",
        "        img, lab = data[0].to('cuda'), target[0].to('cuda')\n",
        "        num, tnum = data[1].to('cuda'), target[1].to('cuda')\n",
        "        optimizer.zero_grad()\n",
        "        output = model(img, num)\n",
        "        loss1 = F.nll_loss(output[0], lab)\n",
        "        loss2 = F.nll_loss(output[1], tnum)\n",
        "        loss = loss1 + loss2\n",
        "        loss.backward()\n",
        "        optimizer.step()\n",
        "        pbar.set_description(desc= f'loss={loss.item()} batch_id={batch_idx}')"
      ],
      "execution_count": null,
      "outputs": []
    },
    {
      "cell_type": "code",
      "metadata": {
        "id": "HLCuaJbrgnJE"
      },
      "source": [
        "def test(model, test_loader):\n",
        "    model.eval()\n",
        "    test_loss = 0\n",
        "    correct_img = 0\n",
        "    correct_num = 0\n",
        "    with torch.no_grad():\n",
        "        for data, target in test_loader:\n",
        "            img, lab = data[0].to('cuda'), target[0].to('cuda')\n",
        "            num, tnum = data[1].to('cuda'), target[1].to('cuda')\n",
        "            output = model(img, num)\n",
        "            loss1 = F.nll_loss(output[0], lab)\n",
        "            loss2 = F.nll_loss(output[1], tnum)\n",
        "            loss = loss1 + loss2\n",
        "            test_loss += loss\n",
        "            pred1 = output[0].argmax(dim=1, keepdim=True)\n",
        "            correct_img += pred1.eq(lab.view_as(pred1)).sum().item()\n",
        "            pred2 = output[1].argmax(dim=1, keepdim=True)\n",
        "            correct_num += pred2.eq(tnum.view_as(pred2)).sum().item()\n",
        "\n",
        "        test_loss /= len(test_loader)\n",
        "\n",
        "        print('\\nTest set: Average loss: {:.4f}, Accuracy1: {}/{} ({:.0f}%), Accuracy2: {}/{} ({:.0f}%)\\n'.format(\n",
        "        test_loss, correct_img, len(test_loader.dataset),\n",
        "        100. * correct_img / len(test_loader.dataset),\n",
        "        correct_num, len(test_loader.dataset),\n",
        "        100. * correct_num / len(test_loader.dataset)))"
      ],
      "execution_count": null,
      "outputs": []
    },
    {
      "cell_type": "markdown",
      "metadata": {
        "id": "7H9E_AiAEEG_"
      },
      "source": [
        "### Model training using 16 epochs"
      ]
    },
    {
      "cell_type": "code",
      "metadata": {
        "colab": {
          "base_uri": "https://localhost:8080/"
        },
        "id": "SYDTP_qjfVCj",
        "outputId": "11293255-cf57-4c14-a7e7-34885775f0cd"
      },
      "source": [
        "\n",
        "model = Network().to('cuda')\n",
        "optimizer = optim.SGD(model.parameters(), lr=0.01, momentum=0.9)\n",
        "\n",
        "for epoch in range(1, 16):\n",
        "    train(model, train_loader, optimizer)\n",
        "    test(model, test_loader)"
      ],
      "execution_count": null,
      "outputs": [
        {
          "output_type": "stream",
          "name": "stderr",
          "text": [
            "loss=1.2538264989852905 batch_id=937: 100%|██████████| 938/938 [00:23<00:00, 39.86it/s]\n"
          ]
        },
        {
          "output_type": "stream",
          "name": "stdout",
          "text": [
            "\n",
            "Test set: Average loss: 1.3398, Accuracy1: 9845/10000 (98%), Accuracy2: 4900/10000 (49%)\n",
            "\n"
          ]
        },
        {
          "output_type": "stream",
          "name": "stderr",
          "text": [
            "loss=1.172275424003601 batch_id=937: 100%|██████████| 938/938 [00:23<00:00, 39.53it/s]\n"
          ]
        },
        {
          "output_type": "stream",
          "name": "stdout",
          "text": [
            "\n",
            "Test set: Average loss: 1.2803, Accuracy1: 9863/10000 (99%), Accuracy2: 4984/10000 (50%)\n",
            "\n"
          ]
        },
        {
          "output_type": "stream",
          "name": "stderr",
          "text": [
            "loss=0.7922142744064331 batch_id=937: 100%|██████████| 938/938 [00:23<00:00, 39.54it/s]\n"
          ]
        },
        {
          "output_type": "stream",
          "name": "stdout",
          "text": [
            "\n",
            "Test set: Average loss: 0.8664, Accuracy1: 9910/10000 (99%), Accuracy2: 6701/10000 (67%)\n",
            "\n"
          ]
        },
        {
          "output_type": "stream",
          "name": "stderr",
          "text": [
            "loss=0.8499040007591248 batch_id=937: 100%|██████████| 938/938 [00:23<00:00, 39.20it/s]\n"
          ]
        },
        {
          "output_type": "stream",
          "name": "stdout",
          "text": [
            "\n",
            "Test set: Average loss: 0.9152, Accuracy1: 9913/10000 (99%), Accuracy2: 6711/10000 (67%)\n",
            "\n"
          ]
        },
        {
          "output_type": "stream",
          "name": "stderr",
          "text": [
            "loss=0.8697547316551208 batch_id=937: 100%|██████████| 938/938 [00:23<00:00, 40.02it/s]\n"
          ]
        },
        {
          "output_type": "stream",
          "name": "stdout",
          "text": [
            "\n",
            "Test set: Average loss: 0.8900, Accuracy1: 9911/10000 (99%), Accuracy2: 6658/10000 (67%)\n",
            "\n"
          ]
        },
        {
          "output_type": "stream",
          "name": "stderr",
          "text": [
            "loss=0.6686374545097351 batch_id=937: 100%|██████████| 938/938 [00:23<00:00, 39.96it/s]\n"
          ]
        },
        {
          "output_type": "stream",
          "name": "stdout",
          "text": [
            "\n",
            "Test set: Average loss: 0.6791, Accuracy1: 9921/10000 (99%), Accuracy2: 7942/10000 (79%)\n",
            "\n"
          ]
        },
        {
          "output_type": "stream",
          "name": "stderr",
          "text": [
            "loss=2.170863389968872 batch_id=937: 100%|██████████| 938/938 [00:23<00:00, 39.96it/s]\n"
          ]
        },
        {
          "output_type": "stream",
          "name": "stdout",
          "text": [
            "\n",
            "Test set: Average loss: 0.5579, Accuracy1: 9932/10000 (99%), Accuracy2: 8872/10000 (89%)\n",
            "\n"
          ]
        },
        {
          "output_type": "stream",
          "name": "stderr",
          "text": [
            "loss=0.6816314458847046 batch_id=937: 100%|██████████| 938/938 [00:23<00:00, 39.55it/s]\n"
          ]
        },
        {
          "output_type": "stream",
          "name": "stdout",
          "text": [
            "\n",
            "Test set: Average loss: 0.6242, Accuracy1: 9921/10000 (99%), Accuracy2: 8661/10000 (87%)\n",
            "\n"
          ]
        },
        {
          "output_type": "stream",
          "name": "stderr",
          "text": [
            "loss=0.38011395931243896 batch_id=937: 100%|██████████| 938/938 [00:23<00:00, 39.83it/s]\n"
          ]
        },
        {
          "output_type": "stream",
          "name": "stdout",
          "text": [
            "\n",
            "Test set: Average loss: 0.7262, Accuracy1: 9918/10000 (99%), Accuracy2: 8104/10000 (81%)\n",
            "\n"
          ]
        },
        {
          "output_type": "stream",
          "name": "stderr",
          "text": [
            "loss=0.37112191319465637 batch_id=937: 100%|██████████| 938/938 [00:23<00:00, 39.85it/s]\n"
          ]
        },
        {
          "output_type": "stream",
          "name": "stdout",
          "text": [
            "\n",
            "Test set: Average loss: 0.6148, Accuracy1: 9929/10000 (99%), Accuracy2: 8290/10000 (83%)\n",
            "\n"
          ]
        },
        {
          "output_type": "stream",
          "name": "stderr",
          "text": [
            "loss=0.2961824834346771 batch_id=937: 100%|██████████| 938/938 [00:23<00:00, 39.64it/s]\n"
          ]
        },
        {
          "output_type": "stream",
          "name": "stdout",
          "text": [
            "\n",
            "Test set: Average loss: 0.5272, Accuracy1: 9929/10000 (99%), Accuracy2: 9027/10000 (90%)\n",
            "\n"
          ]
        },
        {
          "output_type": "stream",
          "name": "stderr",
          "text": [
            "loss=0.46351972222328186 batch_id=937: 100%|██████████| 938/938 [00:23<00:00, 39.50it/s]\n"
          ]
        },
        {
          "output_type": "stream",
          "name": "stdout",
          "text": [
            "\n",
            "Test set: Average loss: 0.6365, Accuracy1: 9921/10000 (99%), Accuracy2: 8598/10000 (86%)\n",
            "\n"
          ]
        },
        {
          "output_type": "stream",
          "name": "stderr",
          "text": [
            "loss=0.44882676005363464 batch_id=937: 100%|██████████| 938/938 [00:23<00:00, 39.60it/s]\n"
          ]
        },
        {
          "output_type": "stream",
          "name": "stdout",
          "text": [
            "\n",
            "Test set: Average loss: 0.7144, Accuracy1: 9930/10000 (99%), Accuracy2: 7983/10000 (80%)\n",
            "\n"
          ]
        },
        {
          "output_type": "stream",
          "name": "stderr",
          "text": [
            "loss=0.29906904697418213 batch_id=937: 100%|██████████| 938/938 [00:23<00:00, 39.97it/s]\n"
          ]
        },
        {
          "output_type": "stream",
          "name": "stdout",
          "text": [
            "\n",
            "Test set: Average loss: 0.6271, Accuracy1: 9923/10000 (99%), Accuracy2: 8475/10000 (85%)\n",
            "\n"
          ]
        },
        {
          "output_type": "stream",
          "name": "stderr",
          "text": [
            "loss=0.897777795791626 batch_id=937: 100%|██████████| 938/938 [00:23<00:00, 40.00it/s]\n"
          ]
        },
        {
          "output_type": "stream",
          "name": "stdout",
          "text": [
            "\n",
            "Test set: Average loss: 0.7062, Accuracy1: 9926/10000 (99%), Accuracy2: 7999/10000 (80%)\n",
            "\n"
          ]
        }
      ]
    },
    {
      "cell_type": "markdown",
      "metadata": {
        "id": "e99A0-sjMaDS"
      },
      "source": [
        "## Evaluation of Network"
      ]
    },
    {
      "cell_type": "code",
      "metadata": {
        "id": "STLjKOZjhI89"
      },
      "source": [
        "inputs, labels = next(iter(test_loader))\n",
        "img, rando = inputs\n",
        "lab, sum = labels\n",
        "\n",
        "output = model(img.to('cuda'), rando.to('cuda'))\n",
        "pred1 = output[0].argmax(dim=1, keepdim=True)\n",
        "pred2 = output[1].argmax(dim=1, keepdim=True)"
      ],
      "execution_count": null,
      "outputs": []
    },
    {
      "cell_type": "code",
      "metadata": {
        "colab": {
          "base_uri": "https://localhost:8080/",
          "height": 282
        },
        "id": "EHPn74sMicmw",
        "outputId": "be4cc767-47b6-4e1a-9977-007ff1630a0b"
      },
      "source": [
        "import matplotlib.pyplot as plt\n",
        "\n",
        "some_random = random.randint(0,64)\n",
        "\n",
        "plt.imshow(img[some_random].squeeze(), cmap='gray')"
      ],
      "execution_count": null,
      "outputs": [
        {
          "output_type": "execute_result",
          "data": {
            "text/plain": [
              "<matplotlib.image.AxesImage at 0x7f1af5734710>"
            ]
          },
          "metadata": {},
          "execution_count": 123
        },
        {
          "output_type": "display_data",
          "data": {
            "image/png": "[encoded data removed]",
            "text/plain": [
              "<Figure size 432x288 with 1 Axes>"
            ]
          },
          "metadata": {
            "needs_background": "light"
          }
        }
      ]
    },
    {
      "cell_type": "code",
      "metadata": {
        "colab": {
          "base_uri": "https://localhost:8080/"
        },
        "id": "Aar4kY7WifVQ",
        "outputId": "5b8b4826-a4cd-46e2-9f66-f649ffaea090"
      },
      "source": [
        "print('Ground Truth MNIST: ', lab[some_random])\n",
        "print('Predicted MNIST: ', pred1[some_random])"
      ],
      "execution_count": null,
      "outputs": [
        {
          "output_type": "stream",
          "name": "stdout",
          "text": [
            "Ground Truth MNIST:  tensor(5)\n",
            "Predicted MNIST:  tensor([5], device='cuda:0')\n"
          ]
        }
      ]
    },
    {
      "cell_type": "code",
      "metadata": {
        "colab": {
          "base_uri": "https://localhost:8080/"
        },
        "id": "80DOEBufijQh",
        "outputId": "45f9e4e3-4200-4fea-eca3-77e7e4cb72b4"
      },
      "source": [
        "\n",
        "print('Random Number: ', rando[some_random].argmax(dim=0).item())\n",
        "print('Ground Truth MNIST: ', lab[some_random])\n",
        "print('Ground Truth Random Number + MNIST: ', sum[some_random])\n",
        "print('Predicted Random Number + MNIST: ', pred2[some_random])"
      ],
      "execution_count": null,
      "outputs": [
        {
          "output_type": "stream",
          "name": "stdout",
          "text": [
            "Random Number:  8\n",
            "Ground Truth MNIST:  tensor(5)\n",
            "Ground Truth Random Number + MNIST:  tensor(13)\n",
            "Predicted Random Number + MNIST:  tensor([13], device='cuda:0')\n"
          ]
        }
      ]
    },
    {
      "cell_type": "code",
      "metadata": {
        "colab": {
          "base_uri": "https://localhost:8080/"
        },
        "id": "7oUrUTk2jaU6",
        "outputId": "474641d8-21d1-4ee2-ef1a-57096d39c284"
      },
      "source": [
        "\n",
        "# Create an object of the class Network and transfer it to the GPU\n",
        "model1 = Network().to(device)\n",
        "print(\" The model layers are: \")\n",
        "print(model1)\n",
        "\n",
        "print(\"\\nShape of parameters in each layer is: \")\n",
        "for name, param in model1.named_parameters():\n",
        "    print(name, '\\t\\t', param.shape)"
      ],
      "execution_count": null,
      "outputs": [
        {
          "output_type": "stream",
          "name": "stdout",
          "text": [
            " The model layers are: \n",
            "Network(\n",
            "  (conv1): Conv2d(1, 16, kernel_size=(3, 3), stride=(1, 1), padding=(1, 1))\n",
            "  (conv2): Conv2d(16, 32, kernel_size=(3, 3), stride=(1, 1), padding=(1, 1))\n",
            "  (pool1): MaxPool2d(kernel_size=2, stride=2, padding=0, dilation=1, ceil_mode=False)\n",
            "  (conv3): Conv2d(32, 64, kernel_size=(3, 3), stride=(1, 1), padding=(1, 1))\n",
            "  (conv4): Conv2d(64, 64, kernel_size=(3, 3), stride=(1, 1), padding=(1, 1))\n",
            "  (pool2): MaxPool2d(kernel_size=2, stride=2, padding=0, dilation=1, ceil_mode=False)\n",
            "  (conv5): Conv2d(64, 128, kernel_size=(3, 3), stride=(1, 1))\n",
            "  (conv6): Conv2d(128, 256, kernel_size=(3, 3), stride=(1, 1))\n",
            "  (conv7): Conv2d(256, 10, kernel_size=(3, 3), stride=(1, 1))\n",
            "  (layer1): Linear(in_features=20, out_features=19, bias=False)\n",
            ")\n",
            "\n",
            "Shape of parameters in each layer is: \n",
            "conv1.weight \t\t torch.Size([16, 1, 3, 3])\n",
            "conv1.bias \t\t torch.Size([16])\n",
            "conv2.weight \t\t torch.Size([32, 16, 3, 3])\n",
            "conv2.bias \t\t torch.Size([32])\n",
            "conv3.weight \t\t torch.Size([64, 32, 3, 3])\n",
            "conv3.bias \t\t torch.Size([64])\n",
            "conv4.weight \t\t torch.Size([64, 64, 3, 3])\n",
            "conv4.bias \t\t torch.Size([64])\n",
            "conv5.weight \t\t torch.Size([128, 64, 3, 3])\n",
            "conv5.bias \t\t torch.Size([128])\n",
            "conv6.weight \t\t torch.Size([256, 128, 3, 3])\n",
            "conv6.bias \t\t torch.Size([256])\n",
            "conv7.weight \t\t torch.Size([10, 256, 3, 3])\n",
            "conv7.bias \t\t torch.Size([10])\n",
            "layer1.weight \t\t torch.Size([19, 20])\n"
          ]
        }
      ]
    },
    {
      "cell_type": "code",
      "metadata": {
        "colab": {
          "base_uri": "https://localhost:8080/"
        },
        "id": "ah9q4Um6k2Xu",
        "outputId": "cf42fff5-0d33-4868-8cf6-50d2cd0e4b2d"
      },
      "source": [
        "!pip3 install graphviz\n",
        "!pip3 install hiddenlayer"
      ],
      "execution_count": null,
      "outputs": [
        {
          "output_type": "stream",
          "name": "stdout",
          "text": [
            "Requirement already satisfied: graphviz in /usr/local/lib/python3.7/dist-packages (0.10.1)\n",
            "Collecting hiddenlayer\n",
            "  Downloading hiddenlayer-0.3-py3-none-any.whl (19 kB)\n",
            "Installing collected packages: hiddenlayer\n",
            "Successfully installed hiddenlayer-0.3\n"
          ]
        }
      ]
    },
    {
      "cell_type": "code",
      "metadata": {
        "colab": {
          "base_uri": "https://localhost:8080/",
          "height": 478
        },
        "id": "fhtOqdCKi1rv",
        "outputId": "1b4be088-b8f8-47cc-b64d-9346efe1122e"
      },
      "source": [
        "\n",
        "import hiddenlayer as hl\n",
        "hl.build_graph(model, (torch.zeros([1, 1, 28, 28]).to('cuda'), torch.zeros(1,10).to('cuda')))"
      ],
      "execution_count": null,
      "outputs": [
        {
          "output_type": "execute_result",
          "data": {
            "text/plain": [
              "<hiddenlayer.graph.Graph at 0x7f1af56d9210>"
            ],
            "image/svg+xml": "<?xml version=\"1.0\" encoding=\"UTF-8\" standalone=\"no\"?>\n<!DOCTYPE svg PUBLIC \"-//W3C//DTD SVG 1.1//EN\"\n \"http://www.w3.org/Graphics/SVG/1.1/DTD/svg11.dtd\">\n<!-- Generated by graphviz version 2.40.1 (20161225.0304)\n -->\n<!-- Title: %3 Pages: 1 -->\n<svg width=\"1157pt\" height=\"328pt\"\n viewBox=\"0.00 0.00 1157.00 328.00\" xmlns=\"http://www.w3.org/2000/svg\" xmlns:xlink=\"http://www.w3.org/1999/xlink\">\n<g id=\"graph0\" class=\"graph\" transform=\"scale(1 1) rotate(0) translate(72 292)\">\n<title>%3</title>\n<polygon fill=\"#ffffff\" stroke=\"transparent\" points=\"-72,36 -72,-292 1085,-292 1085,36 -72,36\"/>\n<!-- /outputs/23 -->\n<g id=\"node1\" class=\"node\">\n<title>/outputs/23</title>\n<polygon fill=\"#e8e8e8\" stroke=\"#000000\" points=\"190,-40 120,-40 120,-4 190,-4 190,-40\"/>\n<text text-anchor=\"start\" x=\"128\" y=\"-19\" font-family=\"Times\" font-size=\"10.00\" fill=\"#000000\">MaxPool2x2</text>\n</g>\n<!-- 12529067667883944043 -->\n<g id=\"node13\" class=\"node\">\n<title>12529067667883944043</title>\n<polygon fill=\"#e8e8e8\" stroke=\"#000000\" points=\"310,-44 226,-44 226,0 310,0 310,-44\"/>\n<text text-anchor=\"start\" x=\"234\" y=\"-28\" font-family=\"Times\" font-size=\"10.00\" fill=\"#000000\">Conv3x3 &gt; Relu</text>\n<text text-anchor=\"start\" x=\"295\" y=\"-7\" font-family=\"Times\" font-size=\"10.00\" fill=\"#000000\">x2</text>\n</g>\n<!-- /outputs/23&#45;&gt;12529067667883944043 -->\n<g id=\"edge6\" class=\"edge\">\n<title>/outputs/23&#45;&gt;12529067667883944043</title>\n<path fill=\"none\" stroke=\"#000000\" d=\"M190.1345,-22C198.237,-22 207.0271,-22 215.6853,-22\"/>\n<polygon fill=\"#000000\" stroke=\"#000000\" points=\"215.7397,-25.5001 225.7397,-22 215.7396,-18.5001 215.7397,-25.5001\"/>\n</g>\n<!-- /outputs/28 -->\n<g id=\"node2\" class=\"node\">\n<title>/outputs/28</title>\n<polygon fill=\"#e8e8e8\" stroke=\"#000000\" points=\"416,-40 346,-40 346,-4 416,-4 416,-40\"/>\n<text text-anchor=\"start\" x=\"354\" y=\"-19\" font-family=\"Times\" font-size=\"10.00\" fill=\"#000000\">MaxPool2x2</text>\n</g>\n<!-- 3977794625598422755 -->\n<g id=\"node14\" class=\"node\">\n<title>3977794625598422755</title>\n<polygon fill=\"#e8e8e8\" stroke=\"#000000\" points=\"536,-44 452,-44 452,0 536,0 536,-44\"/>\n<text text-anchor=\"start\" x=\"460\" y=\"-28\" font-family=\"Times\" font-size=\"10.00\" fill=\"#000000\">Conv3x3 &gt; Relu</text>\n<text text-anchor=\"start\" x=\"521\" y=\"-7\" font-family=\"Times\" font-size=\"10.00\" fill=\"#000000\">x2</text>\n</g>\n<!-- /outputs/28&#45;&gt;3977794625598422755 -->\n<g id=\"edge8\" class=\"edge\">\n<title>/outputs/28&#45;&gt;3977794625598422755</title>\n<path fill=\"none\" stroke=\"#000000\" d=\"M416.1345,-22C424.237,-22 433.0271,-22 441.6853,-22\"/>\n<polygon fill=\"#000000\" stroke=\"#000000\" points=\"441.7397,-25.5001 451.7397,-22 441.7396,-18.5001 441.7397,-25.5001\"/>\n</g>\n<!-- /outputs/33 -->\n<g id=\"node3\" class=\"node\">\n<title>/outputs/33</title>\n<polygon fill=\"#e8e8e8\" stroke=\"#000000\" points=\"627,-40 572,-40 572,-4 627,-4 627,-40\"/>\n<text text-anchor=\"start\" x=\"580.5\" y=\"-19\" font-family=\"Times\" font-size=\"10.00\" fill=\"#000000\">Conv3x3</text>\n</g>\n<!-- /outputs/35 -->\n<g id=\"node5\" class=\"node\">\n<title>/outputs/35</title>\n<polygon fill=\"#e8e8e8\" stroke=\"#000000\" points=\"717,-67 663,-67 663,-31 717,-31 717,-67\"/>\n<text text-anchor=\"start\" x=\"673\" y=\"-46\" font-family=\"Times\" font-size=\"10.00\" fill=\"#000000\">Reshape</text>\n</g>\n<!-- /outputs/33&#45;&gt;/outputs/35 -->\n<g id=\"edge1\" class=\"edge\">\n<title>/outputs/33&#45;&gt;/outputs/35</title>\n<path fill=\"none\" stroke=\"#000000\" d=\"M627.1447,-30.2476C635.3781,-32.704 644.5327,-35.4352 653.2506,-38.0361\"/>\n<polygon fill=\"#000000\" stroke=\"#000000\" points=\"652.2522,-41.3906 662.8355,-40.8957 654.2535,-34.6828 652.2522,-41.3906\"/>\n</g>\n<!-- /outputs/34 -->\n<g id=\"node4\" class=\"node\">\n<title>/outputs/34</title>\n<polygon fill=\"#e8e8e8\" stroke=\"#000000\" points=\"626.5,-94 572.5,-94 572.5,-58 626.5,-58 626.5,-94\"/>\n<text text-anchor=\"start\" x=\"581.5\" y=\"-73\" font-family=\"Times\" font-size=\"10.00\" fill=\"#000000\">Constant</text>\n</g>\n<!-- /outputs/34&#45;&gt;/outputs/35 -->\n<g id=\"edge2\" class=\"edge\">\n<title>/outputs/34&#45;&gt;/outputs/35</title>\n<path fill=\"none\" stroke=\"#000000\" d=\"M626.653,-67.8991C634.9753,-65.4162 644.2754,-62.6416 653.1316,-59.9994\"/>\n<polygon fill=\"#000000\" stroke=\"#000000\" points=\"654.2842,-63.3081 662.8662,-57.0952 652.2829,-56.6002 654.2842,-63.3081\"/>\n</g>\n<!-- /outputs/36 -->\n<g id=\"node6\" class=\"node\">\n<title>/outputs/36</title>\n<polygon fill=\"#e8e8e8\" stroke=\"#000000\" points=\"813.5,-94 759.5,-94 759.5,-58 813.5,-58 813.5,-94\"/>\n<text text-anchor=\"start\" x=\"771.5\" y=\"-73\" font-family=\"Times\" font-size=\"10.00\" fill=\"#000000\">Concat</text>\n</g>\n<!-- /outputs/35&#45;&gt;/outputs/36 -->\n<g id=\"edge3\" class=\"edge\">\n<title>/outputs/35&#45;&gt;/outputs/36</title>\n<path fill=\"none\" stroke=\"#000000\" d=\"M717.1374,-56.5929C727.1074,-59.3824 738.5754,-62.591 749.2785,-65.5857\"/>\n<polygon fill=\"#000000\" stroke=\"#000000\" points=\"748.6587,-69.0466 759.2319,-68.3706 750.5448,-62.3055 748.6587,-69.0466\"/>\n</g>\n<!-- /outputs/43 -->\n<g id=\"node10\" class=\"node\">\n<title>/outputs/43</title>\n<polygon fill=\"#e8e8e8\" stroke=\"#000000\" points=\"820,-40 753,-40 753,-4 820,-4 820,-40\"/>\n<text text-anchor=\"start\" x=\"761.5\" y=\"-19\" font-family=\"Times\" font-size=\"10.00\" fill=\"#000000\">LogSoftmax</text>\n</g>\n<!-- /outputs/35&#45;&gt;/outputs/43 -->\n<g id=\"edge4\" class=\"edge\">\n<title>/outputs/35&#45;&gt;/outputs/43</title>\n<path fill=\"none\" stroke=\"#000000\" d=\"M717.1374,-41.4071C725.1571,-39.1633 734.1461,-36.6482 742.9266,-34.1915\"/>\n<polygon fill=\"#000000\" stroke=\"#000000\" points=\"744.0015,-37.5253 752.6886,-31.4602 742.1154,-30.7841 744.0015,-37.5253\"/>\n</g>\n<!-- 17846013456373575989 -->\n<g id=\"node15\" class=\"node\">\n<title>17846013456373575989</title>\n<polygon fill=\"#e8e8e8\" stroke=\"#000000\" points=\"910,-179 856,-179 856,-135 910,-135 910,-179\"/>\n<text text-anchor=\"start\" x=\"866\" y=\"-163\" font-family=\"Times\" font-size=\"10.00\" fill=\"#000000\">MatMul</text>\n<text text-anchor=\"start\" x=\"893\" y=\"-142\" font-family=\"Times\" font-size=\"10.00\" fill=\"#000000\">x3</text>\n</g>\n<!-- /outputs/36&#45;&gt;17846013456373575989 -->\n<g id=\"edge11\" class=\"edge\">\n<title>/outputs/36&#45;&gt;17846013456373575989</title>\n<path fill=\"none\" stroke=\"#000000\" d=\"M809.2809,-94.2076C812.8821,-97.1299 816.5534,-100.135 820,-103 829.6933,-111.0574 840.1203,-119.9154 849.647,-128.0854\"/>\n<polygon fill=\"#000000\" stroke=\"#000000\" points=\"847.5376,-130.8875 857.4019,-134.7536 852.1016,-125.5799 847.5376,-130.8875\"/>\n</g>\n<!-- /outputs/37 -->\n<g id=\"node7\" class=\"node\">\n<title>/outputs/37</title>\n<polygon fill=\"#e8e8e8\" stroke=\"#000000\" points=\"815.5,-256 757.5,-256 757.5,-220 815.5,-220 815.5,-256\"/>\n<text text-anchor=\"start\" x=\"765.5\" y=\"-235\" font-family=\"Times\" font-size=\"10.00\" fill=\"#000000\">Transpose</text>\n</g>\n<!-- /outputs/37&#45;&gt;17846013456373575989 -->\n<g id=\"edge12\" class=\"edge\">\n<title>/outputs/37&#45;&gt;17846013456373575989</title>\n<path fill=\"none\" stroke=\"#000000\" d=\"M809.2809,-219.7924C812.8821,-216.8701 816.5534,-213.865 820,-211 829.6933,-202.9426 840.1203,-194.0846 849.647,-185.9146\"/>\n<polygon fill=\"#000000\" stroke=\"#000000\" points=\"852.1016,-188.4201 857.4019,-179.2464 847.5376,-183.1125 852.1016,-188.4201\"/>\n</g>\n<!-- /outputs/39 -->\n<g id=\"node8\" class=\"node\">\n<title>/outputs/39</title>\n<polygon fill=\"#e8e8e8\" stroke=\"#000000\" points=\"815.5,-202 757.5,-202 757.5,-166 815.5,-166 815.5,-202\"/>\n<text text-anchor=\"start\" x=\"765.5\" y=\"-181\" font-family=\"Times\" font-size=\"10.00\" fill=\"#000000\">Transpose</text>\n</g>\n<!-- /outputs/39&#45;&gt;17846013456373575989 -->\n<g id=\"edge13\" class=\"edge\">\n<title>/outputs/39&#45;&gt;17846013456373575989</title>\n<path fill=\"none\" stroke=\"#000000\" d=\"M815.7151,-175.8258C825.2842,-173.1485 836.043,-170.1382 846.1036,-167.3233\"/>\n<polygon fill=\"#000000\" stroke=\"#000000\" points=\"847.1745,-170.6582 855.8616,-164.5931 845.2883,-163.9171 847.1745,-170.6582\"/>\n</g>\n<!-- /outputs/41 -->\n<g id=\"node9\" class=\"node\">\n<title>/outputs/41</title>\n<polygon fill=\"#e8e8e8\" stroke=\"#000000\" points=\"815.5,-148 757.5,-148 757.5,-112 815.5,-112 815.5,-148\"/>\n<text text-anchor=\"start\" x=\"765.5\" y=\"-127\" font-family=\"Times\" font-size=\"10.00\" fill=\"#000000\">Transpose</text>\n</g>\n<!-- /outputs/41&#45;&gt;17846013456373575989 -->\n<g id=\"edge10\" class=\"edge\">\n<title>/outputs/41&#45;&gt;17846013456373575989</title>\n<path fill=\"none\" stroke=\"#000000\" d=\"M815.7151,-138.1742C825.2842,-140.8515 836.043,-143.8618 846.1036,-146.6767\"/>\n<polygon fill=\"#000000\" stroke=\"#000000\" points=\"845.2883,-150.0829 855.8616,-149.4069 847.1745,-143.3418 845.2883,-150.0829\"/>\n</g>\n<!-- /outputs/44 -->\n<g id=\"node11\" class=\"node\">\n<title>/outputs/44</title>\n<polygon fill=\"#e8e8e8\" stroke=\"#000000\" points=\"1013,-175 946,-175 946,-139 1013,-139 1013,-175\"/>\n<text text-anchor=\"start\" x=\"954.5\" y=\"-154\" font-family=\"Times\" font-size=\"10.00\" fill=\"#000000\">LogSoftmax</text>\n</g>\n<!-- 2975188288978238676 -->\n<g id=\"node12\" class=\"node\">\n<title>2975188288978238676</title>\n<polygon fill=\"#e8e8e8\" stroke=\"#000000\" points=\"84,-44 0,-44 0,0 84,0 84,-44\"/>\n<text text-anchor=\"start\" x=\"8\" y=\"-28\" font-family=\"Times\" font-size=\"10.00\" fill=\"#000000\">Conv3x3 &gt; Relu</text>\n<text text-anchor=\"start\" x=\"69\" y=\"-7\" font-family=\"Times\" font-size=\"10.00\" fill=\"#000000\">x2</text>\n</g>\n<!-- 2975188288978238676&#45;&gt;/outputs/23 -->\n<g id=\"edge5\" class=\"edge\">\n<title>2975188288978238676&#45;&gt;/outputs/23</title>\n<path fill=\"none\" stroke=\"#000000\" d=\"M84.077,-22C92.4638,-22 101.305,-22 109.7918,-22\"/>\n<polygon fill=\"#000000\" stroke=\"#000000\" points=\"109.9138,-25.5001 119.9138,-22 109.9138,-18.5001 109.9138,-25.5001\"/>\n</g>\n<!-- 12529067667883944043&#45;&gt;/outputs/28 -->\n<g id=\"edge7\" class=\"edge\">\n<title>12529067667883944043&#45;&gt;/outputs/28</title>\n<path fill=\"none\" stroke=\"#000000\" d=\"M310.077,-22C318.4638,-22 327.305,-22 335.7918,-22\"/>\n<polygon fill=\"#000000\" stroke=\"#000000\" points=\"335.9138,-25.5001 345.9138,-22 335.9138,-18.5001 335.9138,-25.5001\"/>\n</g>\n<!-- 3977794625598422755&#45;&gt;/outputs/33 -->\n<g id=\"edge9\" class=\"edge\">\n<title>3977794625598422755&#45;&gt;/outputs/33</title>\n<path fill=\"none\" stroke=\"#000000\" d=\"M536.303,-22C544.6869,-22 553.4376,-22 561.6615,-22\"/>\n<polygon fill=\"#000000\" stroke=\"#000000\" points=\"561.7294,-25.5001 571.7294,-22 561.7294,-18.5001 561.7294,-25.5001\"/>\n</g>\n<!-- 17846013456373575989&#45;&gt;/outputs/44 -->\n<g id=\"edge14\" class=\"edge\">\n<title>17846013456373575989&#45;&gt;/outputs/44</title>\n<path fill=\"none\" stroke=\"#000000\" d=\"M910.1374,-157C918.0709,-157 926.9529,-157 935.6433,-157\"/>\n<polygon fill=\"#000000\" stroke=\"#000000\" points=\"935.6887,-160.5001 945.6886,-157 935.6886,-153.5001 935.6887,-160.5001\"/>\n</g>\n</g>\n</svg>\n"
          },
          "metadata": {},
          "execution_count": 160
        }
      ]
    },
    {
      "cell_type": "code",
      "metadata": {
        "colab": {
          "base_uri": "https://localhost:8080/"
        },
        "id": "G-Ze_Et2jlGr",
        "outputId": "2a1ee656-6c2e-457e-d9ee-4da485c664f0"
      },
      "source": [
        "optimizer.param_groups[0]['params'][0]"
      ],
      "execution_count": null,
      "outputs": [
        {
          "output_type": "execute_result",
          "data": {
            "text/plain": [
              "Parameter containing:\n",
              "tensor([[[[-4.6292e-01, -4.8460e-01, -5.4478e-01],\n",
              "          [ 4.2600e-01,  1.3317e-01, -1.5430e-01],\n",
              "          [ 3.1888e-01,  3.6262e-01, -3.2004e-01]]],\n",
              "\n",
              "\n",
              "        [[[-4.3217e-01,  1.4333e-01,  3.0194e-01],\n",
              "          [-1.7987e-01,  2.5543e-01, -2.6825e-01],\n",
              "          [-3.4804e-01,  4.4069e-02, -2.5075e-01]]],\n",
              "\n",
              "\n",
              "        [[[-2.5349e-01, -3.1383e-01, -1.3900e+00],\n",
              "          [ 1.9165e-01, -1.1502e+00, -6.4352e-01],\n",
              "          [-6.1007e-02, -2.0055e-01, -1.5822e-01]]],\n",
              "\n",
              "\n",
              "        [[[-8.4272e-02, -1.2472e-02, -1.5857e-01],\n",
              "          [-9.4267e-02,  4.5839e-01, -1.7971e-01],\n",
              "          [-6.5636e-01,  2.9286e-01,  3.0740e-03]]],\n",
              "\n",
              "\n",
              "        [[[-6.7003e-01, -5.7565e-01, -2.1208e-01],\n",
              "          [-2.5724e-01, -3.3764e-01, -4.5675e-01],\n",
              "          [-7.8149e-02, -3.5876e-01, -5.9591e-01]]],\n",
              "\n",
              "\n",
              "        [[[-3.3756e-01, -2.8329e-01, -4.7580e-01],\n",
              "          [ 1.1175e-03,  7.1700e-01, -1.5069e-01],\n",
              "          [-3.3611e-01,  1.5543e-01, -2.7861e-01]]],\n",
              "\n",
              "\n",
              "        [[[ 5.1265e-01,  1.9066e-02,  1.1271e-01],\n",
              "          [-2.7504e-01,  2.5980e-01, -2.9411e-01],\n",
              "          [-3.9776e-01,  1.2211e-01, -3.9321e-01]]],\n",
              "\n",
              "\n",
              "        [[[ 8.9867e-02,  1.4750e-01,  1.5431e-01],\n",
              "          [-7.8410e-02, -3.7957e-01, -2.4110e-01],\n",
              "          [-3.4284e-01, -2.3499e-02, -2.3616e-01]]],\n",
              "\n",
              "\n",
              "        [[[ 7.1630e-02, -9.1774e-02, -4.3536e-01],\n",
              "          [ 4.6866e-02,  4.5840e-01,  1.7475e-01],\n",
              "          [-4.5738e-01, -4.1515e-01,  1.1848e-02]]],\n",
              "\n",
              "\n",
              "        [[[-1.1951e-01,  8.4854e-02, -3.3109e-01],\n",
              "          [-2.4127e-02, -3.0260e-01, -1.1111e-01],\n",
              "          [-3.1496e-01, -2.1439e-01,  3.1522e-01]]],\n",
              "\n",
              "\n",
              "        [[[ 1.7974e-01,  2.0996e-02, -2.4767e-01],\n",
              "          [ 5.2224e-01, -4.5604e-01, -8.9351e-01],\n",
              "          [ 4.7139e-01, -4.2677e-01, -3.0514e-01]]],\n",
              "\n",
              "\n",
              "        [[[-3.1091e-01,  2.2521e-01,  5.5576e-01],\n",
              "          [-1.0022e+00, -2.8939e-01, -2.3040e-01],\n",
              "          [ 4.5906e-01, -1.4158e-02, -6.9446e-01]]],\n",
              "\n",
              "\n",
              "        [[[ 5.7254e-01,  1.2396e-01,  1.3089e-01],\n",
              "          [-6.1896e-01, -2.9535e-01,  2.6453e-01],\n",
              "          [-1.0424e+00, -3.1305e-02,  1.1886e+00]]],\n",
              "\n",
              "\n",
              "        [[[ 1.4865e-01,  6.1617e-01,  4.9504e-01],\n",
              "          [ 2.1161e-01, -3.5906e-01, -4.1392e-01],\n",
              "          [-4.3508e-01, -9.7791e-01, -6.2025e-01]]],\n",
              "\n",
              "\n",
              "        [[[-3.9554e-01, -3.6906e-01, -2.2310e-01],\n",
              "          [ 2.3189e-01, -4.9896e-01, -1.7548e-01],\n",
              "          [ 3.7210e-01, -3.5432e-01, -2.2597e-01]]],\n",
              "\n",
              "\n",
              "        [[[ 7.8462e-01, -2.0402e-01,  2.8091e-01],\n",
              "          [-3.0257e-01, -1.4302e+00, -2.5239e-01],\n",
              "          [ 6.2273e-01,  3.4623e-01,  6.3700e-01]]]], device='cuda:0', requires_grad=True)"
            ]
          },
          "metadata": {},
          "execution_count": 147
        }
      ]
    }
  ]
}