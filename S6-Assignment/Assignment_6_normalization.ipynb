{
  "nbformat": 4,
  "nbformat_minor": 0,
  "metadata": {
    "colab": {
      "name": "Assignment_6_normalization.ipynb",
      "provenance": [],
      "collapsed_sections": [
        "j-C4EvRE0sHF",
        "SK6ax7Yi0yMK",
        "ATD-fUw706ya"
      ]
    },
    "kernelspec": {
      "name": "python3",
      "display_name": "Python 3"
    },
    "language_info": {
      "name": "python"
    },
    "widgets": {
      "application/vnd.jupyter.widget-state+json": {
        "e1f54ede39d042758e60236e437e2fa2": {
          "model_module": "@jupyter-widgets/controls",
          "model_name": "HBoxModel",
          "model_module_version": "1.5.0",
          "state": {
            "_view_name": "HBoxView",
            "_dom_classes": [],
            "_model_name": "HBoxModel",
            "_view_module": "@jupyter-widgets/controls",
            "_model_module_version": "1.5.0",
            "_view_count": null,
            "_view_module_version": "1.5.0",
            "box_style": "",
            "layout": "IPY_MODEL_30d0168f4b784c5a834d41b5a1c57eb3",
            "_model_module": "@jupyter-widgets/controls",
            "children": [
              "IPY_MODEL_7d4c1cd9e99043848be5ebe2eb74c349",
              "IPY_MODEL_daacbc0026d643018310b63e4a33245b",
              "IPY_MODEL_acd7fa4990b14eb0a022e8c0202173f8"
            ]
          }
        },
        "30d0168f4b784c5a834d41b5a1c57eb3": {
          "model_module": "@jupyter-widgets/base",
          "model_name": "LayoutModel",
          "model_module_version": "1.2.0",
          "state": {
            "_view_name": "LayoutView",
            "grid_template_rows": null,
            "right": null,
            "justify_content": null,
            "_view_module": "@jupyter-widgets/base",
            "overflow": null,
            "_model_module_version": "1.2.0",
            "_view_count": null,
            "flex_flow": null,
            "width": null,
            "min_width": null,
            "border": null,
            "align_items": null,
            "bottom": null,
            "_model_module": "@jupyter-widgets/base",
            "top": null,
            "grid_column": null,
            "overflow_y": null,
            "overflow_x": null,
            "grid_auto_flow": null,
            "grid_area": null,
            "grid_template_columns": null,
            "flex": null,
            "_model_name": "LayoutModel",
            "justify_items": null,
            "grid_row": null,
            "max_height": null,
            "align_content": null,
            "visibility": null,
            "align_self": null,
            "height": null,
            "min_height": null,
            "padding": null,
            "grid_auto_rows": null,
            "grid_gap": null,
            "max_width": null,
            "order": null,
            "_view_module_version": "1.2.0",
            "grid_template_areas": null,
            "object_position": null,
            "object_fit": null,
            "grid_auto_columns": null,
            "margin": null,
            "display": null,
            "left": null
          }
        },
        "7d4c1cd9e99043848be5ebe2eb74c349": {
          "model_module": "@jupyter-widgets/controls",
          "model_name": "HTMLModel",
          "model_module_version": "1.5.0",
          "state": {
            "_view_name": "HTMLView",
            "style": "IPY_MODEL_f9737c1e91be4c80962ab336a19d8b89",
            "_dom_classes": [],
            "description": "",
            "_model_name": "HTMLModel",
            "placeholder": "​",
            "_view_module": "@jupyter-widgets/controls",
            "_model_module_version": "1.5.0",
            "value": "",
            "_view_count": null,
            "_view_module_version": "1.5.0",
            "description_tooltip": null,
            "_model_module": "@jupyter-widgets/controls",
            "layout": "IPY_MODEL_95b56f12f9134615867ddf4582bfa4b1"
          }
        },
        "daacbc0026d643018310b63e4a33245b": {
          "model_module": "@jupyter-widgets/controls",
          "model_name": "FloatProgressModel",
          "model_module_version": "1.5.0",
          "state": {
            "_view_name": "ProgressView",
            "style": "IPY_MODEL_5c3ac05682354c308b966061691a9d29",
            "_dom_classes": [],
            "description": "",
            "_model_name": "FloatProgressModel",
            "bar_style": "success",
            "max": 9912422,
            "_view_module": "@jupyter-widgets/controls",
            "_model_module_version": "1.5.0",
            "value": 9912422,
            "_view_count": null,
            "_view_module_version": "1.5.0",
            "orientation": "horizontal",
            "min": 0,
            "description_tooltip": null,
            "_model_module": "@jupyter-widgets/controls",
            "layout": "IPY_MODEL_42fde84970cf462586666926a2f38cd0"
          }
        },
        "acd7fa4990b14eb0a022e8c0202173f8": {
          "model_module": "@jupyter-widgets/controls",
          "model_name": "HTMLModel",
          "model_module_version": "1.5.0",
          "state": {
            "_view_name": "HTMLView",
            "style": "IPY_MODEL_efdca502b3134083befb305f29c44734",
            "_dom_classes": [],
            "description": "",
            "_model_name": "HTMLModel",
            "placeholder": "​",
            "_view_module": "@jupyter-widgets/controls",
            "_model_module_version": "1.5.0",
            "value": " 9913344/? [00:00&lt;00:00, 36198089.31it/s]",
            "_view_count": null,
            "_view_module_version": "1.5.0",
            "description_tooltip": null,
            "_model_module": "@jupyter-widgets/controls",
            "layout": "IPY_MODEL_63f3a58dfed24df2bdb94944df540c3c"
          }
        },
        "f9737c1e91be4c80962ab336a19d8b89": {
          "model_module": "@jupyter-widgets/controls",
          "model_name": "DescriptionStyleModel",
          "model_module_version": "1.5.0",
          "state": {
            "_view_name": "StyleView",
            "_model_name": "DescriptionStyleModel",
            "description_width": "",
            "_view_module": "@jupyter-widgets/base",
            "_model_module_version": "1.5.0",
            "_view_count": null,
            "_view_module_version": "1.2.0",
            "_model_module": "@jupyter-widgets/controls"
          }
        },
        "95b56f12f9134615867ddf4582bfa4b1": {
          "model_module": "@jupyter-widgets/base",
          "model_name": "LayoutModel",
          "model_module_version": "1.2.0",
          "state": {
            "_view_name": "LayoutView",
            "grid_template_rows": null,
            "right": null,
            "justify_content": null,
            "_view_module": "@jupyter-widgets/base",
            "overflow": null,
            "_model_module_version": "1.2.0",
            "_view_count": null,
            "flex_flow": null,
            "width": null,
            "min_width": null,
            "border": null,
            "align_items": null,
            "bottom": null,
            "_model_module": "@jupyter-widgets/base",
            "top": null,
            "grid_column": null,
            "overflow_y": null,
            "overflow_x": null,
            "grid_auto_flow": null,
            "grid_area": null,
            "grid_template_columns": null,
            "flex": null,
            "_model_name": "LayoutModel",
            "justify_items": null,
            "grid_row": null,
            "max_height": null,
            "align_content": null,
            "visibility": null,
            "align_self": null,
            "height": null,
            "min_height": null,
            "padding": null,
            "grid_auto_rows": null,
            "grid_gap": null,
            "max_width": null,
            "order": null,
            "_view_module_version": "1.2.0",
            "grid_template_areas": null,
            "object_position": null,
            "object_fit": null,
            "grid_auto_columns": null,
            "margin": null,
            "display": null,
            "left": null
          }
        },
        "5c3ac05682354c308b966061691a9d29": {
          "model_module": "@jupyter-widgets/controls",
          "model_name": "ProgressStyleModel",
          "model_module_version": "1.5.0",
          "state": {
            "_view_name": "StyleView",
            "_model_name": "ProgressStyleModel",
            "description_width": "",
            "_view_module": "@jupyter-widgets/base",
            "_model_module_version": "1.5.0",
            "_view_count": null,
            "_view_module_version": "1.2.0",
            "bar_color": null,
            "_model_module": "@jupyter-widgets/controls"
          }
        },
        "42fde84970cf462586666926a2f38cd0": {
          "model_module": "@jupyter-widgets/base",
          "model_name": "LayoutModel",
          "model_module_version": "1.2.0",
          "state": {
            "_view_name": "LayoutView",
            "grid_template_rows": null,
            "right": null,
            "justify_content": null,
            "_view_module": "@jupyter-widgets/base",
            "overflow": null,
            "_model_module_version": "1.2.0",
            "_view_count": null,
            "flex_flow": null,
            "width": null,
            "min_width": null,
            "border": null,
            "align_items": null,
            "bottom": null,
            "_model_module": "@jupyter-widgets/base",
            "top": null,
            "grid_column": null,
            "overflow_y": null,
            "overflow_x": null,
            "grid_auto_flow": null,
            "grid_area": null,
            "grid_template_columns": null,
            "flex": null,
            "_model_name": "LayoutModel",
            "justify_items": null,
            "grid_row": null,
            "max_height": null,
            "align_content": null,
            "visibility": null,
            "align_self": null,
            "height": null,
            "min_height": null,
            "padding": null,
            "grid_auto_rows": null,
            "grid_gap": null,
            "max_width": null,
            "order": null,
            "_view_module_version": "1.2.0",
            "grid_template_areas": null,
            "object_position": null,
            "object_fit": null,
            "grid_auto_columns": null,
            "margin": null,
            "display": null,
            "left": null
          }
        },
        "efdca502b3134083befb305f29c44734": {
          "model_module": "@jupyter-widgets/controls",
          "model_name": "DescriptionStyleModel",
          "model_module_version": "1.5.0",
          "state": {
            "_view_name": "StyleView",
            "_model_name": "DescriptionStyleModel",
            "description_width": "",
            "_view_module": "@jupyter-widgets/base",
            "_model_module_version": "1.5.0",
            "_view_count": null,
            "_view_module_version": "1.2.0",
            "_model_module": "@jupyter-widgets/controls"
          }
        },
        "63f3a58dfed24df2bdb94944df540c3c": {
          "model_module": "@jupyter-widgets/base",
          "model_name": "LayoutModel",
          "model_module_version": "1.2.0",
          "state": {
            "_view_name": "LayoutView",
            "grid_template_rows": null,
            "right": null,
            "justify_content": null,
            "_view_module": "@jupyter-widgets/base",
            "overflow": null,
            "_model_module_version": "1.2.0",
            "_view_count": null,
            "flex_flow": null,
            "width": null,
            "min_width": null,
            "border": null,
            "align_items": null,
            "bottom": null,
            "_model_module": "@jupyter-widgets/base",
            "top": null,
            "grid_column": null,
            "overflow_y": null,
            "overflow_x": null,
            "grid_auto_flow": null,
            "grid_area": null,
            "grid_template_columns": null,
            "flex": null,
            "_model_name": "LayoutModel",
            "justify_items": null,
            "grid_row": null,
            "max_height": null,
            "align_content": null,
            "visibility": null,
            "align_self": null,
            "height": null,
            "min_height": null,
            "padding": null,
            "grid_auto_rows": null,
            "grid_gap": null,
            "max_width": null,
            "order": null,
            "_view_module_version": "1.2.0",
            "grid_template_areas": null,
            "object_position": null,
            "object_fit": null,
            "grid_auto_columns": null,
            "margin": null,
            "display": null,
            "left": null
          }
        },
        "6759d7901acb4bf781233733437b6cc4": {
          "model_module": "@jupyter-widgets/controls",
          "model_name": "HBoxModel",
          "model_module_version": "1.5.0",
          "state": {
            "_view_name": "HBoxView",
            "_dom_classes": [],
            "_model_name": "HBoxModel",
            "_view_module": "@jupyter-widgets/controls",
            "_model_module_version": "1.5.0",
            "_view_count": null,
            "_view_module_version": "1.5.0",
            "box_style": "",
            "layout": "IPY_MODEL_6c8efdccfe864e8893e8ab2f44d3e897",
            "_model_module": "@jupyter-widgets/controls",
            "children": [
              "IPY_MODEL_2dbd5710ba47483d928298472a030ac6",
              "IPY_MODEL_b331d7fa8d554fc892e8508865e74f1b",
              "IPY_MODEL_83343805b75e4ccb98263adaff39db34"
            ]
          }
        },
        "6c8efdccfe864e8893e8ab2f44d3e897": {
          "model_module": "@jupyter-widgets/base",
          "model_name": "LayoutModel",
          "model_module_version": "1.2.0",
          "state": {
            "_view_name": "LayoutView",
            "grid_template_rows": null,
            "right": null,
            "justify_content": null,
            "_view_module": "@jupyter-widgets/base",
            "overflow": null,
            "_model_module_version": "1.2.0",
            "_view_count": null,
            "flex_flow": null,
            "width": null,
            "min_width": null,
            "border": null,
            "align_items": null,
            "bottom": null,
            "_model_module": "@jupyter-widgets/base",
            "top": null,
            "grid_column": null,
            "overflow_y": null,
            "overflow_x": null,
            "grid_auto_flow": null,
            "grid_area": null,
            "grid_template_columns": null,
            "flex": null,
            "_model_name": "LayoutModel",
            "justify_items": null,
            "grid_row": null,
            "max_height": null,
            "align_content": null,
            "visibility": null,
            "align_self": null,
            "height": null,
            "min_height": null,
            "padding": null,
            "grid_auto_rows": null,
            "grid_gap": null,
            "max_width": null,
            "order": null,
            "_view_module_version": "1.2.0",
            "grid_template_areas": null,
            "object_position": null,
            "object_fit": null,
            "grid_auto_columns": null,
            "margin": null,
            "display": null,
            "left": null
          }
        },
        "2dbd5710ba47483d928298472a030ac6": {
          "model_module": "@jupyter-widgets/controls",
          "model_name": "HTMLModel",
          "model_module_version": "1.5.0",
          "state": {
            "_view_name": "HTMLView",
            "style": "IPY_MODEL_dceea918e3424f88be513de07833bb50",
            "_dom_classes": [],
            "description": "",
            "_model_name": "HTMLModel",
            "placeholder": "​",
            "_view_module": "@jupyter-widgets/controls",
            "_model_module_version": "1.5.0",
            "value": "",
            "_view_count": null,
            "_view_module_version": "1.5.0",
            "description_tooltip": null,
            "_model_module": "@jupyter-widgets/controls",
            "layout": "IPY_MODEL_a118d0909e8f4b9cbceab00e99ee4bb7"
          }
        },
        "b331d7fa8d554fc892e8508865e74f1b": {
          "model_module": "@jupyter-widgets/controls",
          "model_name": "FloatProgressModel",
          "model_module_version": "1.5.0",
          "state": {
            "_view_name": "ProgressView",
            "style": "IPY_MODEL_2ea6d530ade84585bf2fc6598fc619c1",
            "_dom_classes": [],
            "description": "",
            "_model_name": "FloatProgressModel",
            "bar_style": "success",
            "max": 28881,
            "_view_module": "@jupyter-widgets/controls",
            "_model_module_version": "1.5.0",
            "value": 28881,
            "_view_count": null,
            "_view_module_version": "1.5.0",
            "orientation": "horizontal",
            "min": 0,
            "description_tooltip": null,
            "_model_module": "@jupyter-widgets/controls",
            "layout": "IPY_MODEL_e63af011126f49d39f9d80ac0e34ee6a"
          }
        },
        "83343805b75e4ccb98263adaff39db34": {
          "model_module": "@jupyter-widgets/controls",
          "model_name": "HTMLModel",
          "model_module_version": "1.5.0",
          "state": {
            "_view_name": "HTMLView",
            "style": "IPY_MODEL_45e92b7d7ab74c68921f6cbad8d6e0bb",
            "_dom_classes": [],
            "description": "",
            "_model_name": "HTMLModel",
            "placeholder": "​",
            "_view_module": "@jupyter-widgets/controls",
            "_model_module_version": "1.5.0",
            "value": " 29696/? [00:00&lt;00:00, 851063.89it/s]",
            "_view_count": null,
            "_view_module_version": "1.5.0",
            "description_tooltip": null,
            "_model_module": "@jupyter-widgets/controls",
            "layout": "IPY_MODEL_86dcc55a61b043d9bf487c9da01e6198"
          }
        },
        "dceea918e3424f88be513de07833bb50": {
          "model_module": "@jupyter-widgets/controls",
          "model_name": "DescriptionStyleModel",
          "model_module_version": "1.5.0",
          "state": {
            "_view_name": "StyleView",
            "_model_name": "DescriptionStyleModel",
            "description_width": "",
            "_view_module": "@jupyter-widgets/base",
            "_model_module_version": "1.5.0",
            "_view_count": null,
            "_view_module_version": "1.2.0",
            "_model_module": "@jupyter-widgets/controls"
          }
        },
        "a118d0909e8f4b9cbceab00e99ee4bb7": {
          "model_module": "@jupyter-widgets/base",
          "model_name": "LayoutModel",
          "model_module_version": "1.2.0",
          "state": {
            "_view_name": "LayoutView",
            "grid_template_rows": null,
            "right": null,
            "justify_content": null,
            "_view_module": "@jupyter-widgets/base",
            "overflow": null,
            "_model_module_version": "1.2.0",
            "_view_count": null,
            "flex_flow": null,
            "width": null,
            "min_width": null,
            "border": null,
            "align_items": null,
            "bottom": null,
            "_model_module": "@jupyter-widgets/base",
            "top": null,
            "grid_column": null,
            "overflow_y": null,
            "overflow_x": null,
            "grid_auto_flow": null,
            "grid_area": null,
            "grid_template_columns": null,
            "flex": null,
            "_model_name": "LayoutModel",
            "justify_items": null,
            "grid_row": null,
            "max_height": null,
            "align_content": null,
            "visibility": null,
            "align_self": null,
            "height": null,
            "min_height": null,
            "padding": null,
            "grid_auto_rows": null,
            "grid_gap": null,
            "max_width": null,
            "order": null,
            "_view_module_version": "1.2.0",
            "grid_template_areas": null,
            "object_position": null,
            "object_fit": null,
            "grid_auto_columns": null,
            "margin": null,
            "display": null,
            "left": null
          }
        },
        "2ea6d530ade84585bf2fc6598fc619c1": {
          "model_module": "@jupyter-widgets/controls",
          "model_name": "ProgressStyleModel",
          "model_module_version": "1.5.0",
          "state": {
            "_view_name": "StyleView",
            "_model_name": "ProgressStyleModel",
            "description_width": "",
            "_view_module": "@jupyter-widgets/base",
            "_model_module_version": "1.5.0",
            "_view_count": null,
            "_view_module_version": "1.2.0",
            "bar_color": null,
            "_model_module": "@jupyter-widgets/controls"
          }
        },
        "e63af011126f49d39f9d80ac0e34ee6a": {
          "model_module": "@jupyter-widgets/base",
          "model_name": "LayoutModel",
          "model_module_version": "1.2.0",
          "state": {
            "_view_name": "LayoutView",
            "grid_template_rows": null,
            "right": null,
            "justify_content": null,
            "_view_module": "@jupyter-widgets/base",
            "overflow": null,
            "_model_module_version": "1.2.0",
            "_view_count": null,
            "flex_flow": null,
            "width": null,
            "min_width": null,
            "border": null,
            "align_items": null,
            "bottom": null,
            "_model_module": "@jupyter-widgets/base",
            "top": null,
            "grid_column": null,
            "overflow_y": null,
            "overflow_x": null,
            "grid_auto_flow": null,
            "grid_area": null,
            "grid_template_columns": null,
            "flex": null,
            "_model_name": "LayoutModel",
            "justify_items": null,
            "grid_row": null,
            "max_height": null,
            "align_content": null,
            "visibility": null,
            "align_self": null,
            "height": null,
            "min_height": null,
            "padding": null,
            "grid_auto_rows": null,
            "grid_gap": null,
            "max_width": null,
            "order": null,
            "_view_module_version": "1.2.0",
            "grid_template_areas": null,
            "object_position": null,
            "object_fit": null,
            "grid_auto_columns": null,
            "margin": null,
            "display": null,
            "left": null
          }
        },
        "45e92b7d7ab74c68921f6cbad8d6e0bb": {
          "model_module": "@jupyter-widgets/controls",
          "model_name": "DescriptionStyleModel",
          "model_module_version": "1.5.0",
          "state": {
            "_view_name": "StyleView",
            "_model_name": "DescriptionStyleModel",
            "description_width": "",
            "_view_module": "@jupyter-widgets/base",
            "_model_module_version": "1.5.0",
            "_view_count": null,
            "_view_module_version": "1.2.0",
            "_model_module": "@jupyter-widgets/controls"
          }
        },
        "86dcc55a61b043d9bf487c9da01e6198": {
          "model_module": "@jupyter-widgets/base",
          "model_name": "LayoutModel",
          "model_module_version": "1.2.0",
          "state": {
            "_view_name": "LayoutView",
            "grid_template_rows": null,
            "right": null,
            "justify_content": null,
            "_view_module": "@jupyter-widgets/base",
            "overflow": null,
            "_model_module_version": "1.2.0",
            "_view_count": null,
            "flex_flow": null,
            "width": null,
            "min_width": null,
            "border": null,
            "align_items": null,
            "bottom": null,
            "_model_module": "@jupyter-widgets/base",
            "top": null,
            "grid_column": null,
            "overflow_y": null,
            "overflow_x": null,
            "grid_auto_flow": null,
            "grid_area": null,
            "grid_template_columns": null,
            "flex": null,
            "_model_name": "LayoutModel",
            "justify_items": null,
            "grid_row": null,
            "max_height": null,
            "align_content": null,
            "visibility": null,
            "align_self": null,
            "height": null,
            "min_height": null,
            "padding": null,
            "grid_auto_rows": null,
            "grid_gap": null,
            "max_width": null,
            "order": null,
            "_view_module_version": "1.2.0",
            "grid_template_areas": null,
            "object_position": null,
            "object_fit": null,
            "grid_auto_columns": null,
            "margin": null,
            "display": null,
            "left": null
          }
        },
        "c3a21535d7ff4b9995bb8e75036bf671": {
          "model_module": "@jupyter-widgets/controls",
          "model_name": "HBoxModel",
          "model_module_version": "1.5.0",
          "state": {
            "_view_name": "HBoxView",
            "_dom_classes": [],
            "_model_name": "HBoxModel",
            "_view_module": "@jupyter-widgets/controls",
            "_model_module_version": "1.5.0",
            "_view_count": null,
            "_view_module_version": "1.5.0",
            "box_style": "",
            "layout": "IPY_MODEL_8903248999154f909e6f05bfbbde0863",
            "_model_module": "@jupyter-widgets/controls",
            "children": [
              "IPY_MODEL_dbb1d895a3fa43cdbbbec6955236371b",
              "IPY_MODEL_56762b7cfdeb432f86b9fa83a6fe5bfb",
              "IPY_MODEL_155882fbab69428fac9d506f0f02a86e"
            ]
          }
        },
        "8903248999154f909e6f05bfbbde0863": {
          "model_module": "@jupyter-widgets/base",
          "model_name": "LayoutModel",
          "model_module_version": "1.2.0",
          "state": {
            "_view_name": "LayoutView",
            "grid_template_rows": null,
            "right": null,
            "justify_content": null,
            "_view_module": "@jupyter-widgets/base",
            "overflow": null,
            "_model_module_version": "1.2.0",
            "_view_count": null,
            "flex_flow": null,
            "width": null,
            "min_width": null,
            "border": null,
            "align_items": null,
            "bottom": null,
            "_model_module": "@jupyter-widgets/base",
            "top": null,
            "grid_column": null,
            "overflow_y": null,
            "overflow_x": null,
            "grid_auto_flow": null,
            "grid_area": null,
            "grid_template_columns": null,
            "flex": null,
            "_model_name": "LayoutModel",
            "justify_items": null,
            "grid_row": null,
            "max_height": null,
            "align_content": null,
            "visibility": null,
            "align_self": null,
            "height": null,
            "min_height": null,
            "padding": null,
            "grid_auto_rows": null,
            "grid_gap": null,
            "max_width": null,
            "order": null,
            "_view_module_version": "1.2.0",
            "grid_template_areas": null,
            "object_position": null,
            "object_fit": null,
            "grid_auto_columns": null,
            "margin": null,
            "display": null,
            "left": null
          }
        },
        "dbb1d895a3fa43cdbbbec6955236371b": {
          "model_module": "@jupyter-widgets/controls",
          "model_name": "HTMLModel",
          "model_module_version": "1.5.0",
          "state": {
            "_view_name": "HTMLView",
            "style": "IPY_MODEL_f574cb9336f840ddb0ac23051e688f6a",
            "_dom_classes": [],
            "description": "",
            "_model_name": "HTMLModel",
            "placeholder": "​",
            "_view_module": "@jupyter-widgets/controls",
            "_model_module_version": "1.5.0",
            "value": "",
            "_view_count": null,
            "_view_module_version": "1.5.0",
            "description_tooltip": null,
            "_model_module": "@jupyter-widgets/controls",
            "layout": "IPY_MODEL_76c987bcb12f45b0a3a0eb55a6934500"
          }
        },
        "56762b7cfdeb432f86b9fa83a6fe5bfb": {
          "model_module": "@jupyter-widgets/controls",
          "model_name": "FloatProgressModel",
          "model_module_version": "1.5.0",
          "state": {
            "_view_name": "ProgressView",
            "style": "IPY_MODEL_d7c4b890fcf1487db40e3342c32cfd6e",
            "_dom_classes": [],
            "description": "",
            "_model_name": "FloatProgressModel",
            "bar_style": "success",
            "max": 1648877,
            "_view_module": "@jupyter-widgets/controls",
            "_model_module_version": "1.5.0",
            "value": 1648877,
            "_view_count": null,
            "_view_module_version": "1.5.0",
            "orientation": "horizontal",
            "min": 0,
            "description_tooltip": null,
            "_model_module": "@jupyter-widgets/controls",
            "layout": "IPY_MODEL_331e0817771b4819ad8579126ac7c4fb"
          }
        },
        "155882fbab69428fac9d506f0f02a86e": {
          "model_module": "@jupyter-widgets/controls",
          "model_name": "HTMLModel",
          "model_module_version": "1.5.0",
          "state": {
            "_view_name": "HTMLView",
            "style": "IPY_MODEL_06b0a1ce2bd14dc3b86270da6991f263",
            "_dom_classes": [],
            "description": "",
            "_model_name": "HTMLModel",
            "placeholder": "​",
            "_view_module": "@jupyter-widgets/controls",
            "_model_module_version": "1.5.0",
            "value": " 1649664/? [00:00&lt;00:00, 19885765.11it/s]",
            "_view_count": null,
            "_view_module_version": "1.5.0",
            "description_tooltip": null,
            "_model_module": "@jupyter-widgets/controls",
            "layout": "IPY_MODEL_2bddc23fb3db4fd5a2066e755296126a"
          }
        },
        "f574cb9336f840ddb0ac23051e688f6a": {
          "model_module": "@jupyter-widgets/controls",
          "model_name": "DescriptionStyleModel",
          "model_module_version": "1.5.0",
          "state": {
            "_view_name": "StyleView",
            "_model_name": "DescriptionStyleModel",
            "description_width": "",
            "_view_module": "@jupyter-widgets/base",
            "_model_module_version": "1.5.0",
            "_view_count": null,
            "_view_module_version": "1.2.0",
            "_model_module": "@jupyter-widgets/controls"
          }
        },
        "76c987bcb12f45b0a3a0eb55a6934500": {
          "model_module": "@jupyter-widgets/base",
          "model_name": "LayoutModel",
          "model_module_version": "1.2.0",
          "state": {
            "_view_name": "LayoutView",
            "grid_template_rows": null,
            "right": null,
            "justify_content": null,
            "_view_module": "@jupyter-widgets/base",
            "overflow": null,
            "_model_module_version": "1.2.0",
            "_view_count": null,
            "flex_flow": null,
            "width": null,
            "min_width": null,
            "border": null,
            "align_items": null,
            "bottom": null,
            "_model_module": "@jupyter-widgets/base",
            "top": null,
            "grid_column": null,
            "overflow_y": null,
            "overflow_x": null,
            "grid_auto_flow": null,
            "grid_area": null,
            "grid_template_columns": null,
            "flex": null,
            "_model_name": "LayoutModel",
            "justify_items": null,
            "grid_row": null,
            "max_height": null,
            "align_content": null,
            "visibility": null,
            "align_self": null,
            "height": null,
            "min_height": null,
            "padding": null,
            "grid_auto_rows": null,
            "grid_gap": null,
            "max_width": null,
            "order": null,
            "_view_module_version": "1.2.0",
            "grid_template_areas": null,
            "object_position": null,
            "object_fit": null,
            "grid_auto_columns": null,
            "margin": null,
            "display": null,
            "left": null
          }
        },
        "d7c4b890fcf1487db40e3342c32cfd6e": {
          "model_module": "@jupyter-widgets/controls",
          "model_name": "ProgressStyleModel",
          "model_module_version": "1.5.0",
          "state": {
            "_view_name": "StyleView",
            "_model_name": "ProgressStyleModel",
            "description_width": "",
            "_view_module": "@jupyter-widgets/base",
            "_model_module_version": "1.5.0",
            "_view_count": null,
            "_view_module_version": "1.2.0",
            "bar_color": null,
            "_model_module": "@jupyter-widgets/controls"
          }
        },
        "331e0817771b4819ad8579126ac7c4fb": {
          "model_module": "@jupyter-widgets/base",
          "model_name": "LayoutModel",
          "model_module_version": "1.2.0",
          "state": {
            "_view_name": "LayoutView",
            "grid_template_rows": null,
            "right": null,
            "justify_content": null,
            "_view_module": "@jupyter-widgets/base",
            "overflow": null,
            "_model_module_version": "1.2.0",
            "_view_count": null,
            "flex_flow": null,
            "width": null,
            "min_width": null,
            "border": null,
            "align_items": null,
            "bottom": null,
            "_model_module": "@jupyter-widgets/base",
            "top": null,
            "grid_column": null,
            "overflow_y": null,
            "overflow_x": null,
            "grid_auto_flow": null,
            "grid_area": null,
            "grid_template_columns": null,
            "flex": null,
            "_model_name": "LayoutModel",
            "justify_items": null,
            "grid_row": null,
            "max_height": null,
            "align_content": null,
            "visibility": null,
            "align_self": null,
            "height": null,
            "min_height": null,
            "padding": null,
            "grid_auto_rows": null,
            "grid_gap": null,
            "max_width": null,
            "order": null,
            "_view_module_version": "1.2.0",
            "grid_template_areas": null,
            "object_position": null,
            "object_fit": null,
            "grid_auto_columns": null,
            "margin": null,
            "display": null,
            "left": null
          }
        },
        "06b0a1ce2bd14dc3b86270da6991f263": {
          "model_module": "@jupyter-widgets/controls",
          "model_name": "DescriptionStyleModel",
          "model_module_version": "1.5.0",
          "state": {
            "_view_name": "StyleView",
            "_model_name": "DescriptionStyleModel",
            "description_width": "",
            "_view_module": "@jupyter-widgets/base",
            "_model_module_version": "1.5.0",
            "_view_count": null,
            "_view_module_version": "1.2.0",
            "_model_module": "@jupyter-widgets/controls"
          }
        },
        "2bddc23fb3db4fd5a2066e755296126a": {
          "model_module": "@jupyter-widgets/base",
          "model_name": "LayoutModel",
          "model_module_version": "1.2.0",
          "state": {
            "_view_name": "LayoutView",
            "grid_template_rows": null,
            "right": null,
            "justify_content": null,
            "_view_module": "@jupyter-widgets/base",
            "overflow": null,
            "_model_module_version": "1.2.0",
            "_view_count": null,
            "flex_flow": null,
            "width": null,
            "min_width": null,
            "border": null,
            "align_items": null,
            "bottom": null,
            "_model_module": "@jupyter-widgets/base",
            "top": null,
            "grid_column": null,
            "overflow_y": null,
            "overflow_x": null,
            "grid_auto_flow": null,
            "grid_area": null,
            "grid_template_columns": null,
            "flex": null,
            "_model_name": "LayoutModel",
            "justify_items": null,
            "grid_row": null,
            "max_height": null,
            "align_content": null,
            "visibility": null,
            "align_self": null,
            "height": null,
            "min_height": null,
            "padding": null,
            "grid_auto_rows": null,
            "grid_gap": null,
            "max_width": null,
            "order": null,
            "_view_module_version": "1.2.0",
            "grid_template_areas": null,
            "object_position": null,
            "object_fit": null,
            "grid_auto_columns": null,
            "margin": null,
            "display": null,
            "left": null
          }
        },
        "4d546134bc96447e9cfc87a84eac7568": {
          "model_module": "@jupyter-widgets/controls",
          "model_name": "HBoxModel",
          "model_module_version": "1.5.0",
          "state": {
            "_view_name": "HBoxView",
            "_dom_classes": [],
            "_model_name": "HBoxModel",
            "_view_module": "@jupyter-widgets/controls",
            "_model_module_version": "1.5.0",
            "_view_count": null,
            "_view_module_version": "1.5.0",
            "box_style": "",
            "layout": "IPY_MODEL_dfd5c7ecd6e2498d9af5e664c7fbe1b9",
            "_model_module": "@jupyter-widgets/controls",
            "children": [
              "IPY_MODEL_a15509b9399c482c87f3a04b2f04ea3a",
              "IPY_MODEL_4f3148a586b34bb685a7eb67d04abbbb",
              "IPY_MODEL_40a09e0222234d329c6cfe8a641335d9"
            ]
          }
        },
        "dfd5c7ecd6e2498d9af5e664c7fbe1b9": {
          "model_module": "@jupyter-widgets/base",
          "model_name": "LayoutModel",
          "model_module_version": "1.2.0",
          "state": {
            "_view_name": "LayoutView",
            "grid_template_rows": null,
            "right": null,
            "justify_content": null,
            "_view_module": "@jupyter-widgets/base",
            "overflow": null,
            "_model_module_version": "1.2.0",
            "_view_count": null,
            "flex_flow": null,
            "width": null,
            "min_width": null,
            "border": null,
            "align_items": null,
            "bottom": null,
            "_model_module": "@jupyter-widgets/base",
            "top": null,
            "grid_column": null,
            "overflow_y": null,
            "overflow_x": null,
            "grid_auto_flow": null,
            "grid_area": null,
            "grid_template_columns": null,
            "flex": null,
            "_model_name": "LayoutModel",
            "justify_items": null,
            "grid_row": null,
            "max_height": null,
            "align_content": null,
            "visibility": null,
            "align_self": null,
            "height": null,
            "min_height": null,
            "padding": null,
            "grid_auto_rows": null,
            "grid_gap": null,
            "max_width": null,
            "order": null,
            "_view_module_version": "1.2.0",
            "grid_template_areas": null,
            "object_position": null,
            "object_fit": null,
            "grid_auto_columns": null,
            "margin": null,
            "display": null,
            "left": null
          }
        },
        "a15509b9399c482c87f3a04b2f04ea3a": {
          "model_module": "@jupyter-widgets/controls",
          "model_name": "HTMLModel",
          "model_module_version": "1.5.0",
          "state": {
            "_view_name": "HTMLView",
            "style": "IPY_MODEL_d91ffc41e98e4310b3aee3a1ffe44a4c",
            "_dom_classes": [],
            "description": "",
            "_model_name": "HTMLModel",
            "placeholder": "​",
            "_view_module": "@jupyter-widgets/controls",
            "_model_module_version": "1.5.0",
            "value": "",
            "_view_count": null,
            "_view_module_version": "1.5.0",
            "description_tooltip": null,
            "_model_module": "@jupyter-widgets/controls",
            "layout": "IPY_MODEL_8fdc404ec5e046e790ce207c7cb70a1b"
          }
        },
        "4f3148a586b34bb685a7eb67d04abbbb": {
          "model_module": "@jupyter-widgets/controls",
          "model_name": "FloatProgressModel",
          "model_module_version": "1.5.0",
          "state": {
            "_view_name": "ProgressView",
            "style": "IPY_MODEL_01cc38850365455d8fac959e9c1464c4",
            "_dom_classes": [],
            "description": "",
            "_model_name": "FloatProgressModel",
            "bar_style": "success",
            "max": 4542,
            "_view_module": "@jupyter-widgets/controls",
            "_model_module_version": "1.5.0",
            "value": 4542,
            "_view_count": null,
            "_view_module_version": "1.5.0",
            "orientation": "horizontal",
            "min": 0,
            "description_tooltip": null,
            "_model_module": "@jupyter-widgets/controls",
            "layout": "IPY_MODEL_4205f6b559f2442c856ff6de16528722"
          }
        },
        "40a09e0222234d329c6cfe8a641335d9": {
          "model_module": "@jupyter-widgets/controls",
          "model_name": "HTMLModel",
          "model_module_version": "1.5.0",
          "state": {
            "_view_name": "HTMLView",
            "style": "IPY_MODEL_4332b1b010894ee0b0e820c48801552e",
            "_dom_classes": [],
            "description": "",
            "_model_name": "HTMLModel",
            "placeholder": "​",
            "_view_module": "@jupyter-widgets/controls",
            "_model_module_version": "1.5.0",
            "value": " 5120/? [00:00&lt;00:00, 134932.87it/s]",
            "_view_count": null,
            "_view_module_version": "1.5.0",
            "description_tooltip": null,
            "_model_module": "@jupyter-widgets/controls",
            "layout": "IPY_MODEL_2cab9bbda09b497c879ccd0ccbe3f3af"
          }
        },
        "d91ffc41e98e4310b3aee3a1ffe44a4c": {
          "model_module": "@jupyter-widgets/controls",
          "model_name": "DescriptionStyleModel",
          "model_module_version": "1.5.0",
          "state": {
            "_view_name": "StyleView",
            "_model_name": "DescriptionStyleModel",
            "description_width": "",
            "_view_module": "@jupyter-widgets/base",
            "_model_module_version": "1.5.0",
            "_view_count": null,
            "_view_module_version": "1.2.0",
            "_model_module": "@jupyter-widgets/controls"
          }
        },
        "8fdc404ec5e046e790ce207c7cb70a1b": {
          "model_module": "@jupyter-widgets/base",
          "model_name": "LayoutModel",
          "model_module_version": "1.2.0",
          "state": {
            "_view_name": "LayoutView",
            "grid_template_rows": null,
            "right": null,
            "justify_content": null,
            "_view_module": "@jupyter-widgets/base",
            "overflow": null,
            "_model_module_version": "1.2.0",
            "_view_count": null,
            "flex_flow": null,
            "width": null,
            "min_width": null,
            "border": null,
            "align_items": null,
            "bottom": null,
            "_model_module": "@jupyter-widgets/base",
            "top": null,
            "grid_column": null,
            "overflow_y": null,
            "overflow_x": null,
            "grid_auto_flow": null,
            "grid_area": null,
            "grid_template_columns": null,
            "flex": null,
            "_model_name": "LayoutModel",
            "justify_items": null,
            "grid_row": null,
            "max_height": null,
            "align_content": null,
            "visibility": null,
            "align_self": null,
            "height": null,
            "min_height": null,
            "padding": null,
            "grid_auto_rows": null,
            "grid_gap": null,
            "max_width": null,
            "order": null,
            "_view_module_version": "1.2.0",
            "grid_template_areas": null,
            "object_position": null,
            "object_fit": null,
            "grid_auto_columns": null,
            "margin": null,
            "display": null,
            "left": null
          }
        },
        "01cc38850365455d8fac959e9c1464c4": {
          "model_module": "@jupyter-widgets/controls",
          "model_name": "ProgressStyleModel",
          "model_module_version": "1.5.0",
          "state": {
            "_view_name": "StyleView",
            "_model_name": "ProgressStyleModel",
            "description_width": "",
            "_view_module": "@jupyter-widgets/base",
            "_model_module_version": "1.5.0",
            "_view_count": null,
            "_view_module_version": "1.2.0",
            "bar_color": null,
            "_model_module": "@jupyter-widgets/controls"
          }
        },
        "4205f6b559f2442c856ff6de16528722": {
          "model_module": "@jupyter-widgets/base",
          "model_name": "LayoutModel",
          "model_module_version": "1.2.0",
          "state": {
            "_view_name": "LayoutView",
            "grid_template_rows": null,
            "right": null,
            "justify_content": null,
            "_view_module": "@jupyter-widgets/base",
            "overflow": null,
            "_model_module_version": "1.2.0",
            "_view_count": null,
            "flex_flow": null,
            "width": null,
            "min_width": null,
            "border": null,
            "align_items": null,
            "bottom": null,
            "_model_module": "@jupyter-widgets/base",
            "top": null,
            "grid_column": null,
            "overflow_y": null,
            "overflow_x": null,
            "grid_auto_flow": null,
            "grid_area": null,
            "grid_template_columns": null,
            "flex": null,
            "_model_name": "LayoutModel",
            "justify_items": null,
            "grid_row": null,
            "max_height": null,
            "align_content": null,
            "visibility": null,
            "align_self": null,
            "height": null,
            "min_height": null,
            "padding": null,
            "grid_auto_rows": null,
            "grid_gap": null,
            "max_width": null,
            "order": null,
            "_view_module_version": "1.2.0",
            "grid_template_areas": null,
            "object_position": null,
            "object_fit": null,
            "grid_auto_columns": null,
            "margin": null,
            "display": null,
            "left": null
          }
        },
        "4332b1b010894ee0b0e820c48801552e": {
          "model_module": "@jupyter-widgets/controls",
          "model_name": "DescriptionStyleModel",
          "model_module_version": "1.5.0",
          "state": {
            "_view_name": "StyleView",
            "_model_name": "DescriptionStyleModel",
            "description_width": "",
            "_view_module": "@jupyter-widgets/base",
            "_model_module_version": "1.5.0",
            "_view_count": null,
            "_view_module_version": "1.2.0",
            "_model_module": "@jupyter-widgets/controls"
          }
        },
        "2cab9bbda09b497c879ccd0ccbe3f3af": {
          "model_module": "@jupyter-widgets/base",
          "model_name": "LayoutModel",
          "model_module_version": "1.2.0",
          "state": {
            "_view_name": "LayoutView",
            "grid_template_rows": null,
            "right": null,
            "justify_content": null,
            "_view_module": "@jupyter-widgets/base",
            "overflow": null,
            "_model_module_version": "1.2.0",
            "_view_count": null,
            "flex_flow": null,
            "width": null,
            "min_width": null,
            "border": null,
            "align_items": null,
            "bottom": null,
            "_model_module": "@jupyter-widgets/base",
            "top": null,
            "grid_column": null,
            "overflow_y": null,
            "overflow_x": null,
            "grid_auto_flow": null,
            "grid_area": null,
            "grid_template_columns": null,
            "flex": null,
            "_model_name": "LayoutModel",
            "justify_items": null,
            "grid_row": null,
            "max_height": null,
            "align_content": null,
            "visibility": null,
            "align_self": null,
            "height": null,
            "min_height": null,
            "padding": null,
            "grid_auto_rows": null,
            "grid_gap": null,
            "max_width": null,
            "order": null,
            "_view_module_version": "1.2.0",
            "grid_template_areas": null,
            "object_position": null,
            "object_fit": null,
            "grid_auto_columns": null,
            "margin": null,
            "display": null,
            "left": null
          }
        }
      }
    }
  },
  "cells": [
    {
      "cell_type": "code",
      "metadata": {
        "id": "WJI7BfOwz76a"
      },
      "source": [
        "# print(f\"{__file__} imported\")\n",
        "\n",
        "import torch\n",
        "import torch.nn as nn\n",
        "import torch.nn.functional as F\n",
        "import torch.optim as optim\n",
        "from torchvision import datasets, transforms\n",
        "from torchvision.datasets import MNIST\n",
        "from collections import OrderedDict\n",
        "from tqdm import tqdm\n",
        "import matplotlib.pyplot as plt\n",
        "import pandas as pd\n",
        "\n",
        "import numpy as np\n",
        "import seaborn as sn\n",
        "\n",
        "def get_norm_layer( norm_layer_type, num_channels, num_groups_for_group_norm=None):\n",
        "    \"\"\"\n",
        "    norm_layer_type: 'batch' | 'group' | 'layer'\n",
        "    num_channels: # of channels\n",
        "    \"\"\"\n",
        "    if norm_layer_type == \"batch\":\n",
        "       \n",
        "        nl = nn.BatchNorm2d(num_features=num_channels)\n",
        "    elif norm_layer_type == \"group\":\n",
        "        nl = nn.GroupNorm(num_groups=num_groups_for_group_norm, num_channels=num_channels)\n",
        "    elif norm_layer_type == \"layer\":\n",
        "       \n",
        "        nl = nn.GroupNorm(num_groups=1, num_channels=num_channels)\n",
        "\n",
        "    return nl\n",
        "\n",
        "class Net(nn.Module):\n",
        "    def __init__(self, norm_layer_type, num_groups_for_group_norm=None):\n",
        "        \"\"\"\n",
        "        normalization_type: 'batch' | 'group' | 'layer'\n",
        "        \"\"\"\n",
        "        super(Net, self).__init__()\n",
        "        \n",
        "        dropout=0.05\n",
        " \n",
        "        ####### \n",
        "        # Convolution Block #1\n",
        "        #########\n",
        "        self.conv1 = nn.Sequential(OrderedDict([\n",
        "            ('conv1', nn.Conv2d(in_channels=1, out_channels=8, kernel_size=3, padding=1, bias=False)),\n",
        "            ('relu', nn.ReLU()),\n",
        "            ('batchNorm2d', get_norm_layer(norm_layer_type, num_channels=8, num_groups_for_group_norm=num_groups_for_group_norm) ),\n",
        "            ('dropOut2d', nn.Dropout2d(p=dropout))\n",
        "          ])\n",
        "        ) # Input=28, Output=28, rf=3\n",
        "\n",
        "        self.conv2 = nn.Sequential(\n",
        "            nn.Conv2d(in_channels=8, out_channels=8, kernel_size=3, padding=1, bias=False),\n",
        "            nn.ReLU(),\n",
        "            get_norm_layer(norm_layer_type, num_channels=8, num_groups_for_group_norm=num_groups_for_group_norm),\n",
        "            nn.Dropout2d(p=dropout)\n",
        "        ) # Input=28, Output=28, rf=5\n",
        " \n",
        "        self.conv3 = nn.Sequential(\n",
        "            nn.Conv2d(in_channels=8, out_channels=8, kernel_size=3, padding=1, bias=False),\n",
        "            nn.ReLU(),\n",
        "            get_norm_layer(norm_layer_type, num_channels=8, num_groups_for_group_norm=num_groups_for_group_norm),\n",
        "            nn.Dropout2d(p=dropout) \n",
        "        ) # Input=28, Output=28, rf=10\n",
        " \n",
        "        ####### \n",
        "        # Transition Block #1\n",
        "        #########\n",
        "        self.maxpool1 = nn.MaxPool2d(kernel_size=2, stride=2) # Input=28, Output=14, rf=6\n",
        " \n",
        "        self.conv4= nn.Sequential(\n",
        "            nn.Conv2d(in_channels=8, out_channels=12, kernel_size=1, padding=0, bias=False),\n",
        "        ) # Input=14, Output=14, rf=32\n",
        " \n",
        "        ####### \n",
        "        # Convolution Block #2\n",
        "        #########\n",
        "        self.conv5 = nn.Sequential(\n",
        "            nn.Conv2d(in_channels=12, out_channels=12, kernel_size=3, padding=1, bias=False),\n",
        "            nn.ReLU(),\n",
        "            get_norm_layer(norm_layer_type, num_channels=12, num_groups_for_group_norm=num_groups_for_group_norm),\n",
        "            nn.Dropout2d(p=dropout)\n",
        "        ) # Input=14, Output=14, rf=14\n",
        " \n",
        "        self.conv6 = nn.Sequential(\n",
        "            nn.Conv2d(in_channels=12, out_channels=12, kernel_size=3, padding=1, bias=False),\n",
        "            nn.ReLU(),\n",
        "            get_norm_layer(norm_layer_type, num_channels=12, num_groups_for_group_norm=num_groups_for_group_norm),\n",
        "            nn.Dropout2d(p=dropout) \n",
        "        ) # Input=14, Output=14, rf=24\n",
        "        \n",
        "        self.conv7 = nn.Sequential(\n",
        "            nn.Conv2d(in_channels=12, out_channels=12, kernel_size=3, padding=1, bias=False),\n",
        "            nn.ReLU(),\n",
        "            get_norm_layer(norm_layer_type, num_channels=12, num_groups_for_group_norm=num_groups_for_group_norm),\n",
        "            nn.Dropout2d(p=dropout) \n",
        "        )# Input=14, Output=14, rf=24\n",
        "        \n",
        "        self.conv8 = nn.Sequential(\n",
        "            nn.Conv2d(in_channels=12, out_channels=12, kernel_size=3, padding=1, bias=False),\n",
        "            nn.ReLU(),\n",
        "            get_norm_layer(norm_layer_type, num_channels=12, num_groups_for_group_norm=num_groups_for_group_norm),\n",
        "            nn.Dropout2d(p=dropout) \n",
        "        ) # Input=14, Output=14, rf=24\n",
        "\n",
        "        self.conv9 = nn.Sequential(\n",
        "            nn.Conv2d(in_channels=12, out_channels=10, kernel_size=3, padding=1, bias=False),\n",
        "            nn.ReLU(),\n",
        "            get_norm_layer(norm_layer_type, num_channels=10, num_groups_for_group_norm=num_groups_for_group_norm),\n",
        "            #nn.Dropout2d(p=dropout) \n",
        "        ) # Input=14, Output=14, rf=24\n",
        "        \n",
        "        #######\n",
        "        # Transition block #2\n",
        "        #######\n",
        "        self.maxpool2= nn.MaxPool2d(kernel_size=2, stride=2) # Input=6, Output=3, chan=12, \n",
        " \n",
        "        ####### \n",
        "        # Output Block\n",
        "        #########\n",
        "        # global average pool before 1x1 to reduce computation\n",
        "        #self.global_avgpool = nn.AdaptiveAvgPool2d(output_size=1)  # Input=3, Output=1, chan=12,\n",
        "        self.global_avgpool = nn.AvgPool2d(kernel_size=10)  # Input=3, Output=1, chan=12,\n",
        " \n",
        "        self.conv10 = nn.Sequential(\n",
        "            \n",
        "            nn.Conv2d(in_channels=12, out_channels=10, kernel_size=1, padding=0, bias=False),\n",
        "        ) # Input=1, Output=1, chan=10, \n",
        "    \n",
        "    def forward(self, x):\n",
        "        #####\n",
        "        # conv block #1\n",
        "        ########\n",
        "        x = self.conv1(x)\n",
        "        x = self.conv2(x)\n",
        "        x = self.conv3(x)\n",
        " \n",
        "        #####\n",
        "        # Transitioni block #1\n",
        "        ########\n",
        "        x = self.maxpool1(x)\n",
        "        x = self.conv4(x)\n",
        " \n",
        "        #####\n",
        "        # conv block #2\n",
        "        ########\n",
        "        x = self.conv5(x)\n",
        "        x = self.conv6(x)\n",
        "        x = self.conv7(x)\n",
        "        x = self.conv8(x)\n",
        "        x = self.conv9(x)\n",
        "\n",
        "        #######\n",
        "        # Transition block #2\n",
        "        #######\n",
        "        #x = self.maxpool2(x)\n",
        " \n",
        "        #####\n",
        "        # output block\n",
        "        ########\n",
        "        x = self.global_avgpool(x)        \n",
        "        #x = self.conv10_16_1_1_10(x)\n",
        "               \n",
        "        x = x.view(-1, 10)\n",
        "        return F.log_softmax(x)"
      ],
      "execution_count": 13,
      "outputs": []
    },
    {
      "cell_type": "code",
      "metadata": {
        "id": "Vpk5ohU-znrd"
      },
      "source": [
        "import torch\n",
        "import torch.nn as nn\n",
        "import torch.nn.functional as F\n",
        "import torch.optim as optim\n",
        "from torchvision import datasets, transforms\n",
        "from torchvision.datasets import MNIST\n",
        "from collections import OrderedDict\n",
        "import os\n",
        "import sys\n",
        "import shutil\n",
        "import glob\n",
        "import pdb\n"
      ],
      "execution_count": 2,
      "outputs": []
    },
    {
      "cell_type": "code",
      "metadata": {
        "colab": {
          "base_uri": "https://localhost:8080/"
        },
        "id": "6Mh3ALDS0IjW",
        "outputId": "fea459ea-c6ad-4db0-c282-8b96d3aa5b88"
      },
      "source": [
        "\n",
        "from torchsummary import summary\n",
        "use_cuda = torch.cuda.is_available()\n",
        "device = torch.device(\"cuda\" if use_cuda else \"cpu\")\n",
        "model = Net('batch').to(device)\n",
        "summary(model, input_size=(1, 28, 28))"
      ],
      "execution_count": 3,
      "outputs": [
        {
          "output_type": "stream",
          "name": "stdout",
          "text": [
            "Requirement already satisfied: torchsummary in /usr/local/lib/python3.7/dist-packages (1.5.1)\n",
            "----------------------------------------------------------------\n",
            "        Layer (type)               Output Shape         Param #\n",
            "================================================================\n",
            "            Conv2d-1            [-1, 8, 28, 28]              72\n",
            "              ReLU-2            [-1, 8, 28, 28]               0\n",
            "       BatchNorm2d-3            [-1, 8, 28, 28]              16\n",
            "         Dropout2d-4            [-1, 8, 28, 28]               0\n",
            "            Conv2d-5            [-1, 8, 28, 28]             576\n",
            "              ReLU-6            [-1, 8, 28, 28]               0\n",
            "       BatchNorm2d-7            [-1, 8, 28, 28]              16\n",
            "         Dropout2d-8            [-1, 8, 28, 28]               0\n",
            "            Conv2d-9            [-1, 8, 28, 28]             576\n",
            "             ReLU-10            [-1, 8, 28, 28]               0\n",
            "      BatchNorm2d-11            [-1, 8, 28, 28]              16\n",
            "        Dropout2d-12            [-1, 8, 28, 28]               0\n",
            "        MaxPool2d-13            [-1, 8, 14, 14]               0\n",
            "           Conv2d-14           [-1, 12, 14, 14]              96\n",
            "           Conv2d-15           [-1, 12, 14, 14]           1,296\n",
            "             ReLU-16           [-1, 12, 14, 14]               0\n",
            "      BatchNorm2d-17           [-1, 12, 14, 14]              24\n",
            "        Dropout2d-18           [-1, 12, 14, 14]               0\n",
            "           Conv2d-19           [-1, 12, 14, 14]           1,296\n",
            "             ReLU-20           [-1, 12, 14, 14]               0\n",
            "      BatchNorm2d-21           [-1, 12, 14, 14]              24\n",
            "        Dropout2d-22           [-1, 12, 14, 14]               0\n",
            "           Conv2d-23           [-1, 12, 14, 14]           1,296\n",
            "             ReLU-24           [-1, 12, 14, 14]               0\n",
            "      BatchNorm2d-25           [-1, 12, 14, 14]              24\n",
            "        Dropout2d-26           [-1, 12, 14, 14]               0\n",
            "           Conv2d-27           [-1, 12, 14, 14]           1,296\n",
            "             ReLU-28           [-1, 12, 14, 14]               0\n",
            "      BatchNorm2d-29           [-1, 12, 14, 14]              24\n",
            "        Dropout2d-30           [-1, 12, 14, 14]               0\n",
            "           Conv2d-31           [-1, 10, 14, 14]           1,080\n",
            "             ReLU-32           [-1, 10, 14, 14]               0\n",
            "      BatchNorm2d-33           [-1, 10, 14, 14]              20\n",
            "        AvgPool2d-34             [-1, 10, 1, 1]               0\n",
            "================================================================\n",
            "Total params: 7,748\n",
            "Trainable params: 7,748\n",
            "Non-trainable params: 0\n",
            "----------------------------------------------------------------\n",
            "Input size (MB): 0.00\n",
            "Forward/backward pass size (MB): 0.94\n",
            "Params size (MB): 0.03\n",
            "Estimated Total Size (MB): 0.97\n",
            "----------------------------------------------------------------\n"
          ]
        },
        {
          "output_type": "stream",
          "name": "stderr",
          "text": [
            "/usr/local/lib/python3.7/dist-packages/torch/nn/functional.py:718: UserWarning: Named tensors and all their associated APIs are an experimental feature and subject to change. Please do not use them for anything important until they are released as stable. (Triggered internally at  /pytorch/c10/core/TensorImpl.h:1156.)\n",
            "  return torch.max_pool2d(input, kernel_size, stride, padding, dilation, ceil_mode)\n",
            "/usr/local/lib/python3.7/dist-packages/ipykernel_launcher.py:160: UserWarning: Implicit dimension choice for log_softmax has been deprecated. Change the call to include dim=X as an argument.\n"
          ]
        }
      ]
    },
    {
      "cell_type": "code",
      "metadata": {
        "colab": {
          "base_uri": "https://localhost:8080/",
          "height": 484,
          "referenced_widgets": [
            "e1f54ede39d042758e60236e437e2fa2",
            "30d0168f4b784c5a834d41b5a1c57eb3",
            "7d4c1cd9e99043848be5ebe2eb74c349",
            "daacbc0026d643018310b63e4a33245b",
            "acd7fa4990b14eb0a022e8c0202173f8",
            "f9737c1e91be4c80962ab336a19d8b89",
            "95b56f12f9134615867ddf4582bfa4b1",
            "5c3ac05682354c308b966061691a9d29",
            "42fde84970cf462586666926a2f38cd0",
            "efdca502b3134083befb305f29c44734",
            "63f3a58dfed24df2bdb94944df540c3c",
            "6759d7901acb4bf781233733437b6cc4",
            "6c8efdccfe864e8893e8ab2f44d3e897",
            "2dbd5710ba47483d928298472a030ac6",
            "b331d7fa8d554fc892e8508865e74f1b",
            "83343805b75e4ccb98263adaff39db34",
            "dceea918e3424f88be513de07833bb50",
            "a118d0909e8f4b9cbceab00e99ee4bb7",
            "2ea6d530ade84585bf2fc6598fc619c1",
            "e63af011126f49d39f9d80ac0e34ee6a",
            "45e92b7d7ab74c68921f6cbad8d6e0bb",
            "86dcc55a61b043d9bf487c9da01e6198",
            "c3a21535d7ff4b9995bb8e75036bf671",
            "8903248999154f909e6f05bfbbde0863",
            "dbb1d895a3fa43cdbbbec6955236371b",
            "56762b7cfdeb432f86b9fa83a6fe5bfb",
            "155882fbab69428fac9d506f0f02a86e",
            "f574cb9336f840ddb0ac23051e688f6a",
            "76c987bcb12f45b0a3a0eb55a6934500",
            "d7c4b890fcf1487db40e3342c32cfd6e",
            "331e0817771b4819ad8579126ac7c4fb",
            "06b0a1ce2bd14dc3b86270da6991f263",
            "2bddc23fb3db4fd5a2066e755296126a",
            "4d546134bc96447e9cfc87a84eac7568",
            "dfd5c7ecd6e2498d9af5e664c7fbe1b9",
            "a15509b9399c482c87f3a04b2f04ea3a",
            "4f3148a586b34bb685a7eb67d04abbbb",
            "40a09e0222234d329c6cfe8a641335d9",
            "d91ffc41e98e4310b3aee3a1ffe44a4c",
            "8fdc404ec5e046e790ce207c7cb70a1b",
            "01cc38850365455d8fac959e9c1464c4",
            "4205f6b559f2442c856ff6de16528722",
            "4332b1b010894ee0b0e820c48801552e",
            "2cab9bbda09b497c879ccd0ccbe3f3af"
          ]
        },
        "id": "td-MZkiD0P4i",
        "outputId": "f5b43e0e-fa00-4cec-cc44-372c301f60fe"
      },
      "source": [
        "# SEED=1 so that we use the same random images for training, during each mini batch, during each epoch\n",
        "SEED=1\n",
        "torch.manual_seed(SEED)\n",
        "\n",
        "batch_size = 128\n",
        "\n",
        "kwargs = {'num_workers': 1, 'pin_memory': True} if use_cuda else {}\n",
        "\n",
        "# download training data set: 50,000 images\n",
        "train_loader = torch.utils.data.DataLoader(\n",
        "    datasets.MNIST('data', train=True, download=True,\n",
        "                    transform=transforms.Compose([\n",
        "                        transforms.RandomRotation((-7.0, 7.0), fill=(1,)),\n",
        "\n",
        "                        transforms.ToTensor(),\n",
        "                        transforms.Normalize((0.1307,), (0.3081,))\n",
        "                    ])),\n",
        "    batch_size=batch_size, shuffle=True, **kwargs)\n",
        "\n",
        "# download test data set: 10,000 images\n",
        "test_loader = torch.utils.data.DataLoader(\n",
        "    datasets.MNIST('data', train=False, transform=transforms.Compose([\n",
        "                        transforms.ToTensor(),\n",
        "                        transforms.Normalize((0.1307,), (0.3081,))\n",
        "                    ])),\n",
        "    batch_size=batch_size, shuffle=True, **kwargs)"
      ],
      "execution_count": 4,
      "outputs": [
        {
          "output_type": "stream",
          "name": "stdout",
          "text": [
            "Downloading http://yann.lecun.com/exdb/mnist/train-images-idx3-ubyte.gz\n",
            "Downloading http://yann.lecun.com/exdb/mnist/train-images-idx3-ubyte.gz to data/MNIST/raw/train-images-idx3-ubyte.gz\n"
          ]
        },
        {
          "output_type": "display_data",
          "data": {
            "application/vnd.jupyter.widget-view+json": {
              "model_id": "e1f54ede39d042758e60236e437e2fa2",
              "version_minor": 0,
              "version_major": 2
            },
            "text/plain": [
              "  0%|          | 0/9912422 [00:00<?, ?it/s]"
            ]
          },
          "metadata": {}
        },
        {
          "output_type": "stream",
          "name": "stdout",
          "text": [
            "Extracting data/MNIST/raw/train-images-idx3-ubyte.gz to data/MNIST/raw\n",
            "\n",
            "Downloading http://yann.lecun.com/exdb/mnist/train-labels-idx1-ubyte.gz\n",
            "Downloading http://yann.lecun.com/exdb/mnist/train-labels-idx1-ubyte.gz to data/MNIST/raw/train-labels-idx1-ubyte.gz\n"
          ]
        },
        {
          "output_type": "display_data",
          "data": {
            "application/vnd.jupyter.widget-view+json": {
              "model_id": "6759d7901acb4bf781233733437b6cc4",
              "version_minor": 0,
              "version_major": 2
            },
            "text/plain": [
              "  0%|          | 0/28881 [00:00<?, ?it/s]"
            ]
          },
          "metadata": {}
        },
        {
          "output_type": "stream",
          "name": "stdout",
          "text": [
            "Extracting data/MNIST/raw/train-labels-idx1-ubyte.gz to data/MNIST/raw\n",
            "\n",
            "Downloading http://yann.lecun.com/exdb/mnist/t10k-images-idx3-ubyte.gz\n",
            "Downloading http://yann.lecun.com/exdb/mnist/t10k-images-idx3-ubyte.gz to data/MNIST/raw/t10k-images-idx3-ubyte.gz\n"
          ]
        },
        {
          "output_type": "display_data",
          "data": {
            "application/vnd.jupyter.widget-view+json": {
              "model_id": "c3a21535d7ff4b9995bb8e75036bf671",
              "version_minor": 0,
              "version_major": 2
            },
            "text/plain": [
              "  0%|          | 0/1648877 [00:00<?, ?it/s]"
            ]
          },
          "metadata": {}
        },
        {
          "output_type": "stream",
          "name": "stdout",
          "text": [
            "Extracting data/MNIST/raw/t10k-images-idx3-ubyte.gz to data/MNIST/raw\n",
            "\n",
            "Downloading http://yann.lecun.com/exdb/mnist/t10k-labels-idx1-ubyte.gz\n",
            "Downloading http://yann.lecun.com/exdb/mnist/t10k-labels-idx1-ubyte.gz to data/MNIST/raw/t10k-labels-idx1-ubyte.gz\n"
          ]
        },
        {
          "output_type": "display_data",
          "data": {
            "application/vnd.jupyter.widget-view+json": {
              "model_id": "4d546134bc96447e9cfc87a84eac7568",
              "version_minor": 0,
              "version_major": 2
            },
            "text/plain": [
              "  0%|          | 0/4542 [00:00<?, ?it/s]"
            ]
          },
          "metadata": {}
        },
        {
          "output_type": "stream",
          "name": "stdout",
          "text": [
            "Extracting data/MNIST/raw/t10k-labels-idx1-ubyte.gz to data/MNIST/raw\n",
            "\n"
          ]
        },
        {
          "output_type": "stream",
          "name": "stderr",
          "text": [
            "/usr/local/lib/python3.7/dist-packages/torchvision/datasets/mnist.py:498: UserWarning: The given NumPy array is not writeable, and PyTorch does not support non-writeable tensors. This means you can write to the underlying (supposedly non-writeable) NumPy array using the tensor. You may want to copy the array to protect its data or make it writeable before converting it to a tensor. This type of warning will be suppressed for the rest of this program. (Triggered internally at  /pytorch/torch/csrc/utils/tensor_numpy.cpp:180.)\n",
            "  return torch.from_numpy(parsed.astype(m[2], copy=False)).view(*s)\n"
          ]
        }
      ]
    },
    {
      "cell_type": "markdown",
      "metadata": {
        "id": "j-C4EvRE0sHF"
      },
      "source": [
        "### Train data function"
      ]
    },
    {
      "cell_type": "code",
      "metadata": {
        "id": "KZf_7a230ugm"
      },
      "source": [
        "class Train():\n",
        "    \"\"\"\n",
        "    Model training is performed considering the multiple inputs like\n",
        "    model, device on which training has to happen, optimizer to be\n",
        "    used while training.\n",
        "\n",
        "    Parameters:\n",
        "    -----------\n",
        "    model: Model architecture to be used to train the model.\n",
        "    device: Type of device (GPU/CPU) to be used while training model.\n",
        "    train_loader: Defining which DataLoader to be used for training.\n",
        "    optimizer: Defining which optimizer to be used.\n",
        "\n",
        "    Returns:\n",
        "    --------\n",
        "    train_loss: The loss observed while training the model.\n",
        "    accuracy: Accuracy of the model over the current training data.\n",
        "    \"\"\"\n",
        "    def __init__(self, model, device, train_loader, optimizer, is_l1=False, **kwargs):\n",
        "\n",
        "        self.model = model\n",
        "        self.progress_bar = tqdm(train_loader)\n",
        "        self.train_loader = train_loader\n",
        "        self.optimizer = optimizer\n",
        "        self.device = device\n",
        "        self.is_l1 = is_l1\n",
        "        if self.is_l1:\n",
        "            self.lambda_l1 = kwargs.get(\"lambda_l1\")\n",
        "\n",
        "        self.accuracy = []\n",
        "        self.loss = []\n",
        "\n",
        "\n",
        "    def __call__(self):\n",
        "        self.model.train() \n",
        "        correct_count = 0\n",
        "        train_loss = 0\n",
        "        for batch_idx, (data, target) in enumerate(self.progress_bar):\n",
        "            data, target = data.to(self.device), target.to(self.device)\n",
        "            self.optimizer.zero_grad()  # Setting optimizer value to zero to avoid accumulation of gradient values\n",
        "            output = self.model(data)\n",
        "            batch_loss = F.nll_loss(input=output, target=target, reduction='mean')\n",
        "            if self.is_l1:\n",
        "                l1 = 0\n",
        "                for p in self.model.parameters():\n",
        "                    l1 += p.abs().sum()\n",
        "                batch_loss = batch_loss + self.lambda_l1 * l1\n",
        "            batch_loss.backward()\n",
        "            self.optimizer.step()\n",
        "\n",
        "            train_loss += batch_loss.item()\n",
        "            pred = output.argmax(dim=1, keepdim=True)\n",
        "            correct_count += pred.eq(target.view_as(pred)).sum().item()\n",
        "\n",
        "            self.progress_bar.set_description(desc= f'loss={batch_loss.item()} batch_id={batch_idx}')\n",
        "            \n",
        "        train_loss /= len(self.train_loader)\n",
        "        accuracy = 100. * correct_count / len(self.train_loader.dataset)\n",
        "\n",
        "        self.loss.append(train_loss)\n",
        "        self.accuracy.append(accuracy)\n",
        "        \n",
        "        return train_loss, accuracy"
      ],
      "execution_count": 5,
      "outputs": []
    },
    {
      "cell_type": "markdown",
      "metadata": {
        "id": "SK6ax7Yi0yMK"
      },
      "source": [
        "### Test Data function"
      ]
    },
    {
      "cell_type": "code",
      "metadata": {
        "id": "tRCJITAQ01fH"
      },
      "source": [
        "class Test():\n",
        "    \"\"\"\n",
        "    Performance of the trained model is evaluated on the DataLoader provided by\n",
        "    the user.\n",
        "\n",
        "    Parameters:\n",
        "    -----------\n",
        "    model: Model to be used to test the model.\n",
        "    device: Type of device (GPU/CPU) to be used while testing model.\n",
        "    test_loader: Defining which DataLoader to be used for testing.\n",
        "\n",
        "    Returns:\n",
        "    --------\n",
        "    test_loss: The loss observed while testing the model.\n",
        "    accuracy: Accuracy of the model over the testing data.\n",
        "    \"\"\"\n",
        "    def __init__(self, model, device, test_loader):\n",
        "\n",
        "        self.model = model\n",
        "        self.test_loader = test_loader\n",
        "        self.device = device\n",
        "        \n",
        "        self.loss = []\n",
        "        self.accuracy = []\n",
        "\n",
        "    def __call__(self):\n",
        "        self.model.eval()\n",
        "        correct_count = 0\n",
        "        test_loss = 0\n",
        "        with torch.no_grad():  # Setting the calculations to not involve any kind of gradient calculation\n",
        "            for data, target in self.test_loader:\n",
        "                data, target = data.to(self.device), target.to(self.device)\n",
        "                output = self.model(data)\n",
        "                test_loss += F.nll_loss(output, target, reduction='mean').item()\n",
        "                pred = output.argmax(dim=1) # Getting Indices of Class with Max Value for each Image\n",
        "                correct_count += pred.eq(target).sum().item() # Equating Predicted and Label Tensors at each Index value\n",
        "\n",
        "        test_loss /= len(self.test_loader)\n",
        "        accuracy = 100. * correct_count / len(self.test_loader.dataset)\n",
        "\n",
        "        self.loss.append(test_loss)\n",
        "        self.accuracy.append(accuracy)\n",
        "\n",
        "        return test_loss, accuracy"
      ],
      "execution_count": 6,
      "outputs": []
    },
    {
      "cell_type": "markdown",
      "metadata": {
        "id": "ATD-fUw706ya"
      },
      "source": [
        "### Plotting data functions "
      ]
    },
    {
      "cell_type": "code",
      "metadata": {
        "id": "QcaMwrdg08tJ"
      },
      "source": [
        "def plot_loss_acc(train_loss, train_acc, test_loss, test_acc):\n",
        "    fig, axs = plt.subplots(2,2,figsize=(15,10))\n",
        "    axs[0, 0].plot(train_loss)\n",
        "    axs[0, 0].set_title(\"Training Loss\")\n",
        "    axs[1, 0].plot(train_acc)\n",
        "    axs[1, 0].set_title(\"Training Accuracy\")\n",
        "    axs[0, 1].plot(test_loss)\n",
        "    axs[0, 1].set_title(\"Test Loss\")\n",
        "    axs[1, 1].plot(test_acc)\n",
        "    axs[1, 1].set_title(\"Test Accuracy\")\n",
        "\n",
        "\n",
        "def plot_combined(train_acc, test_acc, x_label='epochs', y_label='Accuracy'):\n",
        "    plt.axes(xlabel= x_label, ylabel= y_label)\n",
        "    plt.plot(train_acc)\n",
        "    plt.plot(test_acc)\n",
        "    plt.title('Test vs Train')\n",
        "    plt.legend(['Train', 'Test'])\n",
        "\n",
        "\n",
        "def data_stats(data):\n",
        "    exp = data.data\n",
        "    exp = data.transform(exp.numpy())\n",
        "\n",
        "    print('Train Statistics')\n",
        "    print(' - Numpy Shape:', data.data.cpu().numpy().shape)\n",
        "    print(' - Tensor Shape:', data.data.size())\n",
        "    print(' - min:', torch.min(exp))\n",
        "    print(' - max:', torch.max(exp))\n",
        "    print(' - mean:', torch.mean(exp))\n",
        "    print(' - std:', torch.std(exp))\n",
        "    print(' - var:', torch.var(exp))\n",
        "\n",
        "class UnNormalize(object):\n",
        "    def __init__(self, mean, std):\n",
        "        self.mean = mean\n",
        "        self.std = std\n",
        "\n",
        "    def __call__(self, tensor):\n",
        "        \"\"\"\n",
        "        Args:\n",
        "            tensor (Tensor): Tensor image of size (C, H, W) to be normalized.\n",
        "        Returns:\n",
        "            Tensor: Normalized image.\n",
        "        \"\"\"\n",
        "        for t, m, s in zip(tensor, self.mean, self.std):\n",
        "            t.mul_(s).add_(m)\n",
        "            # The normalize code -> t.sub_(m).div_(s)\n",
        "        return tensor\n",
        "\n",
        "\n",
        "def plot_data_grid(train_loader, mean:list, std:list, class_list, ncol=5, nrow=2):\n",
        "\n",
        "    images, labels = next(iter(train_loader))\n",
        "    unNorm= UnNormalize(mean, std)\n",
        "\n",
        "    fig,a =  plt.subplots(nrow,ncol,figsize=(10,10))\n",
        "    for num in range(nrow*ncol):\n",
        "        i = num//nrow\n",
        "        j = num%ncol\n",
        "        if images[num].size(0) == 1: #Single Channel\n",
        "            img = unNorm(images[num])\n",
        "            img = torch.squeeze(img,0)\n",
        "            cmap='gray'\n",
        "        else: # Multi-Channel\n",
        "            img = unNorm(images[num])\n",
        "            img = np.transpose(img, (1,2,0))\n",
        "            cmap=None\n",
        "        a[i][j].imshow(img, cmap)\n",
        "        a[i][j].set_title(f'GT:{class_list[labels[num]]}')\n",
        "        a[i,j].axis('off')\n",
        "    fig.tight_layout()\n",
        "\n",
        "\n",
        "class Results():\n",
        "\n",
        "    def __init__(self, model, loader, device, mean, std, class_list):\n",
        "        self.model = model\n",
        "        self.loader = loader\n",
        "        self.device = device\n",
        "        self.mean = mean\n",
        "        self.std = std\n",
        "        self.class_list = class_list\n",
        "        self.results = self._forwad_pass()\n",
        "\n",
        "    def _forwad_pass(self):\n",
        "        nb_classes = len(self.class_list)\n",
        "        confusion_matrix = torch.zeros(nb_classes, nb_classes, dtype=torch.long)\n",
        "        pred_imgs, pred_lab, gt_lab = None, None, None\n",
        "        incorrect_images, total_pred, total_gt_lab = None, None, None\n",
        "\n",
        "        self.model.eval()\n",
        "        with torch.no_grad():\n",
        "            for batch in self.loader:\n",
        "                images, labels = batch\n",
        "                output = self.model(images.to(self.device))\n",
        "                predicted = output.argmax(dim=1).cpu()\n",
        "\n",
        "                # Confusion Matrix\n",
        "                for l,p in zip(labels, predicted):\n",
        "                    confusion_matrix[l, p] += 1\n",
        "\n",
        "                # For Plot Results of one Batch\n",
        "                if pred_imgs is None:\n",
        "                    pred_imgs = images\n",
        "                    pred_lab = predicted.cpu()\n",
        "                    gt_lab = labels\n",
        "\n",
        "                # Geeting the ids of \"In\"correct Classigied Images\n",
        "                idx = ~predicted.eq(labels)\n",
        "                if idx.sum().item() > 0: # If there are incorrect images\n",
        "                    if incorrect_images is None:\n",
        "                        incorrect_images = images[idx]\n",
        "                        total_pred = predicted[idx]\n",
        "                        total_gt_lab = labels[[idx]]\n",
        "                    else:\n",
        "                        incorrect_images = torch.cat((incorrect_images, images[idx]), dim=0)\n",
        "                        total_pred = torch.cat((total_pred, predicted[idx].cpu()))\n",
        "                        total_gt_lab = torch.cat((total_gt_lab, labels[[idx]]))\n",
        "\n",
        "        cls_acc = (confusion_matrix.diag()/confusion_matrix.sum(1))*100\n",
        "\n",
        "        return {'confusion':confusion_matrix, 'class_acc': cls_acc, \n",
        "                'incorrect_images':incorrect_images, 'total_pred': total_pred, 'total_gt':total_gt_lab,\n",
        "                'pred_imgs':pred_imgs, 'pred_lab':pred_lab, 'gt_lab':gt_lab}\n",
        "\n",
        "    def plot_batch(self, ncol=6, nrow=6):\n",
        "        \n",
        "        unNorm= UnNormalize(self.mean, self.std)\n",
        "\n",
        "        fig,a =  plt.subplots(nrow,ncol,figsize=(10,10))\n",
        "        for num in range(nrow*ncol):\n",
        "            i = num//nrow\n",
        "            j = num%ncol\n",
        "            if self.results['pred_imgs'][num].size(0) == 1: #Single Channel\n",
        "                img = unNorm(self.results['pred_imgs'][num])\n",
        "                img = torch.squeeze(img,0)\n",
        "                cmap='gray'\n",
        "            else: # Multi-Channel\n",
        "                img = unNorm(self.results['pred_imgs'][num])\n",
        "                img = np.transpose(img, (1,2,0))\n",
        "                cmap=None\n",
        "            a[i][j].imshow(img, cmap)\n",
        "            a[i][j].set_title(f\"GT:{self.class_list[self.results['gt_lab'][num]]}\")\n",
        "            a[i][j].text(0.5,-0.2, f\"Predicted: {self.class_list[self.results['pred_lab'][num].item()]}\", size=12, ha=\"center\", transform=a[i][j].transAxes)\n",
        "            a[i][j].axis('off')\n",
        "\n",
        "        fig.tight_layout()\n",
        "\n",
        "    def plot_incorrect(self, nrow, ncol):\n",
        "        '''\n",
        "        Plot those Incorrect classified Images in ncol*nrow matrix if given,\n",
        "        or else Displays all incorrect classified Images.\n",
        "        Parameters:\n",
        "            nrow: The Number of Rows of Images\n",
        "            ncol: The Number of Coloumns of Images\n",
        "        '''\n",
        "        unNorm= UnNormalize(self.mean, self.std)\n",
        "        ncol_ = int(np.sqrt(self.results['incorrect_images'].size(0))) #Finding Total Number of Images Sqrt\n",
        "        \n",
        "        # All Images or Given ncol*nrow number of Images\n",
        "        ncol = ncol\n",
        "        nrow = nrow\n",
        "\n",
        "        num = 0\n",
        "        fig,a =  plt.subplots(nrow,ncol,figsize=(10,10))\n",
        "        for i in range(nrow):\n",
        "            for j in range(ncol):\n",
        "                if self.results['incorrect_images'][num].size(0) == 1: #Single Channel\n",
        "                    img = unNorm(self.results['incorrect_images'][num])\n",
        "                    img = torch.squeeze(img,0)\n",
        "                    cmap='gray'\n",
        "                else: # Multi-Channel\n",
        "                    img = unNorm(self.results['incorrect_images'][num])\n",
        "                    img = np.transpose(img, (1,2,0))\n",
        "                    cmap=None\n",
        "                a[i][j].imshow(img, cmap)\n",
        "                a[i][j].set_title(f\"GT:{self.class_list[self.results['total_gt'][num]]}\")\n",
        "                a[i][j].text(0.5,-0.2, f\"Predicted: {self.class_list[self.results['total_pred'][num].item()]}\", size=12, ha=\"center\", transform=a[i][j].transAxes)\n",
        "                a[i][j].axis('off')\n",
        "                num += 1\n",
        "\n",
        "        fig.tight_layout()\n",
        "\n",
        "    def class_accuracy(self, confusion_heatmap=True, top_n=10):\n",
        "        '''\n",
        "\n",
        "        '''\n",
        "        if confusion_heatmap:\n",
        "            plt.figure(figsize=(8,8))\n",
        "            sn.heatmap(self.results['confusion'].numpy(), \n",
        "                        xticklabels=self.class_list, yticklabels=self.class_list,\n",
        "                        annot=True,cmap='Blues', fmt='d')\n",
        "            plt.xlabel(\"Predicted\") \n",
        "            plt.ylabel(\"Labels\") \n",
        "            plt.show()\n",
        "        \n",
        "        sorted_class_acc = torch.sort(self.results['class_acc'])\n",
        "        \n",
        "        print(f'Accuracies of Top {top_n} Classes in Decreasing Order')\n",
        "        for i in sorted_class_acc.indices[:top_n]:\n",
        "            print(f\"Accuracy of class {self.class_list[i]} is {self.results['class_acc'][i]:.2f}\")"
      ],
      "execution_count": 7,
      "outputs": []
    },
    {
      "cell_type": "code",
      "metadata": {
        "colab": {
          "base_uri": "https://localhost:8080/"
        },
        "id": "R5-il48N1PKw",
        "outputId": "059b192c-f4dc-4762-f787-d7a94132d295"
      },
      "source": [
        "from torch.optim.lr_scheduler import StepLR\n",
        "\n",
        "model_bn = Net('batch').to(device)\n",
        "optimizer = optim.SGD(model_bn.parameters(), lr=0.01, momentum=0.9)\n",
        "scheduler = StepLR(optimizer, step_size= 6, gamma= 0.1)\n",
        "trainer_bn = Train(model_bn, device, train_loader, optimizer, is_l1=True, lambda_l1=0.00005)\n",
        "tester_bn = Test(model_bn, device, test_loader)\n",
        "\n",
        "for epoch in range(1, 21):\n",
        "    print(f'Epoch: {epoch}')\n",
        "    train_loss, train_acc = trainer_bn()\n",
        "    scheduler.step()\n",
        "    test_loss, test_acc = tester_bn()\n",
        "    \n",
        "    print('TRAIN set: Average loss: {:.4f}, Train Accuracy: {:.2f}%'.format(train_loss,train_acc), end=' | ')\n",
        "    print('TEST set: Average loss: {:.4f}, Test Accuracy: {:.2f}%'.format(test_loss,test_acc))\n",
        "    print('~~~~~~~~~~~~~~~~~~~~~~~~~~~~~~~~~~~~~~~~~~~~~~~~~~~~~~~~~~')"
      ],
      "execution_count": 10,
      "outputs": [
        {
          "output_type": "stream",
          "name": "stderr",
          "text": [
            "\r  0%|          | 0/469 [00:00<?, ?it/s]/usr/local/lib/python3.7/dist-packages/ipykernel_launcher.py:162: UserWarning: Implicit dimension choice for log_softmax has been deprecated. Change the call to include dim=X as an argument.\n"
          ]
        },
        {
          "output_type": "stream",
          "name": "stdout",
          "text": [
            "Epoch: 1\n"
          ]
        },
        {
          "output_type": "stream",
          "name": "stderr",
          "text": [
            "loss=0.35514330863952637 batch_id=468: 100%|██████████| 469/469 [01:24<00:00,  5.57it/s]\n"
          ]
        },
        {
          "output_type": "stream",
          "name": "stdout",
          "text": [
            "TRAIN set: Average loss: 0.6959, Train Accuracy: 83.20% | TEST set: Average loss: 0.1203, Test Accuracy: 97.36%\n",
            "~~~~~~~~~~~~~~~~~~~~~~~~~~~~~~~~~~~~~~~~~~~~~~~~~~~~~~~~~~\n",
            "Epoch: 2\n",
            "TRAIN set: Average loss: 0.2514, Train Accuracy: 94.70% | TEST set: Average loss: 0.0694, Test Accuracy: 98.24%\n",
            "~~~~~~~~~~~~~~~~~~~~~~~~~~~~~~~~~~~~~~~~~~~~~~~~~~~~~~~~~~\n",
            "Epoch: 3\n",
            "TRAIN set: Average loss: 0.1966, Train Accuracy: 95.80% | TEST set: Average loss: 0.0638, Test Accuracy: 98.23%\n",
            "~~~~~~~~~~~~~~~~~~~~~~~~~~~~~~~~~~~~~~~~~~~~~~~~~~~~~~~~~~\n",
            "Epoch: 4\n",
            "TRAIN set: Average loss: 0.1713, Train Accuracy: 96.39% | TEST set: Average loss: 0.0487, Test Accuracy: 98.65%\n",
            "~~~~~~~~~~~~~~~~~~~~~~~~~~~~~~~~~~~~~~~~~~~~~~~~~~~~~~~~~~\n",
            "Epoch: 5\n",
            "TRAIN set: Average loss: 0.1542, Train Accuracy: 96.75% | TEST set: Average loss: 0.0481, Test Accuracy: 98.66%\n",
            "~~~~~~~~~~~~~~~~~~~~~~~~~~~~~~~~~~~~~~~~~~~~~~~~~~~~~~~~~~\n",
            "Epoch: 6\n",
            "TRAIN set: Average loss: 0.1488, Train Accuracy: 96.86% | TEST set: Average loss: 0.0405, Test Accuracy: 98.89%\n",
            "~~~~~~~~~~~~~~~~~~~~~~~~~~~~~~~~~~~~~~~~~~~~~~~~~~~~~~~~~~\n",
            "Epoch: 7\n",
            "TRAIN set: Average loss: 0.1289, Train Accuracy: 97.49% | TEST set: Average loss: 0.0344, Test Accuracy: 98.99%\n",
            "~~~~~~~~~~~~~~~~~~~~~~~~~~~~~~~~~~~~~~~~~~~~~~~~~~~~~~~~~~\n",
            "Epoch: 8\n",
            "TRAIN set: Average loss: 0.1249, Train Accuracy: 97.57% | TEST set: Average loss: 0.0332, Test Accuracy: 99.01%\n",
            "~~~~~~~~~~~~~~~~~~~~~~~~~~~~~~~~~~~~~~~~~~~~~~~~~~~~~~~~~~\n",
            "Epoch: 9\n",
            "TRAIN set: Average loss: 0.1222, Train Accuracy: 97.61% | TEST set: Average loss: 0.0331, Test Accuracy: 99.03%\n",
            "~~~~~~~~~~~~~~~~~~~~~~~~~~~~~~~~~~~~~~~~~~~~~~~~~~~~~~~~~~\n",
            "Epoch: 10\n",
            "TRAIN set: Average loss: 0.1221, Train Accuracy: 97.60% | TEST set: Average loss: 0.0328, Test Accuracy: 99.13%\n",
            "~~~~~~~~~~~~~~~~~~~~~~~~~~~~~~~~~~~~~~~~~~~~~~~~~~~~~~~~~~\n",
            "Epoch: 11\n",
            "TRAIN set: Average loss: 0.1197, Train Accuracy: 97.75% | TEST set: Average loss: 0.0323, Test Accuracy: 99.09%\n",
            "~~~~~~~~~~~~~~~~~~~~~~~~~~~~~~~~~~~~~~~~~~~~~~~~~~~~~~~~~~\n",
            "Epoch: 12\n",
            "TRAIN set: Average loss: 0.1179, Train Accuracy: 97.74% | TEST set: Average loss: 0.0320, Test Accuracy: 99.10%\n",
            "~~~~~~~~~~~~~~~~~~~~~~~~~~~~~~~~~~~~~~~~~~~~~~~~~~~~~~~~~~\n",
            "Epoch: 13\n",
            "TRAIN set: Average loss: 0.1188, Train Accuracy: 97.73% | TEST set: Average loss: 0.0313, Test Accuracy: 99.12%\n",
            "~~~~~~~~~~~~~~~~~~~~~~~~~~~~~~~~~~~~~~~~~~~~~~~~~~~~~~~~~~\n",
            "Epoch: 14\n",
            "TRAIN set: Average loss: 0.1186, Train Accuracy: 97.70% | TEST set: Average loss: 0.0312, Test Accuracy: 99.07%\n",
            "~~~~~~~~~~~~~~~~~~~~~~~~~~~~~~~~~~~~~~~~~~~~~~~~~~~~~~~~~~\n",
            "Epoch: 15\n",
            "TRAIN set: Average loss: 0.1189, Train Accuracy: 97.67% | TEST set: Average loss: 0.0318, Test Accuracy: 99.11%\n",
            "~~~~~~~~~~~~~~~~~~~~~~~~~~~~~~~~~~~~~~~~~~~~~~~~~~~~~~~~~~\n",
            "Epoch: 16\n",
            "TRAIN set: Average loss: 0.1177, Train Accuracy: 97.68% | TEST set: Average loss: 0.0310, Test Accuracy: 99.08%\n",
            "~~~~~~~~~~~~~~~~~~~~~~~~~~~~~~~~~~~~~~~~~~~~~~~~~~~~~~~~~~\n",
            "Epoch: 17\n",
            "TRAIN set: Average loss: 0.1169, Train Accuracy: 97.78% | TEST set: Average loss: 0.0318, Test Accuracy: 99.08%\n",
            "~~~~~~~~~~~~~~~~~~~~~~~~~~~~~~~~~~~~~~~~~~~~~~~~~~~~~~~~~~\n",
            "Epoch: 18\n",
            "TRAIN set: Average loss: 0.1178, Train Accuracy: 97.72% | TEST set: Average loss: 0.0310, Test Accuracy: 99.09%\n",
            "~~~~~~~~~~~~~~~~~~~~~~~~~~~~~~~~~~~~~~~~~~~~~~~~~~~~~~~~~~\n",
            "Epoch: 19\n",
            "TRAIN set: Average loss: 0.1179, Train Accuracy: 97.68% | TEST set: Average loss: 0.0307, Test Accuracy: 99.09%\n",
            "~~~~~~~~~~~~~~~~~~~~~~~~~~~~~~~~~~~~~~~~~~~~~~~~~~~~~~~~~~\n",
            "Epoch: 20\n",
            "TRAIN set: Average loss: 0.1164, Train Accuracy: 97.76% | TEST set: Average loss: 0.0306, Test Accuracy: 99.11%\n",
            "~~~~~~~~~~~~~~~~~~~~~~~~~~~~~~~~~~~~~~~~~~~~~~~~~~~~~~~~~~\n"
          ]
        }
      ]
    },
    {
      "cell_type": "code",
      "metadata": {
        "colab": {
          "base_uri": "https://localhost:8080/"
        },
        "id": "RX4TOpCN7IJR",
        "outputId": "f9cdbaad-3821-40ea-ea49-51b01377ef94"
      },
      "source": [
        "\n",
        "print('Train Accuracy:', max(trainer_bn.accuracy))\n",
        "print('Test Accuracy:', max(tester_bn.accuracy))"
      ],
      "execution_count": 11,
      "outputs": [
        {
          "output_type": "stream",
          "name": "stdout",
          "text": [
            "Train Accuracy: 97.785\n",
            "Test Accuracy: 99.13\n"
          ]
        }
      ]
    },
    {
      "cell_type": "code",
      "metadata": {
        "colab": {
          "base_uri": "https://localhost:8080/",
          "height": 606
        },
        "id": "Cqokzf6F7Jup",
        "outputId": "762f5820-d817-483b-90b2-894c0da3a309"
      },
      "source": [
        "plot_loss_acc(trainer_bn.loss, trainer_bn.accuracy, tester_bn.loss, tester_bn.accuracy)"
      ],
      "execution_count": 14,
      "outputs": [
        {
          "output_type": "display_data",
          "data": {
            "image/png": "[encoded data removed]",
            "text/plain": [
              "<Figure size 1080x720 with 4 Axes>"
            ]
          },
          "metadata": {
            "needs_background": "light"
          }
        }
      ]
    },
    {
      "cell_type": "code",
      "metadata": {
        "colab": {
          "base_uri": "https://localhost:8080/",
          "height": 294
        },
        "id": "GUC4bxS17MYf",
        "outputId": "360ec110-3877-4388-cfdf-d1a2948436ed"
      },
      "source": [
        "plot_combined(trainer_bn.accuracy, tester_bn.accuracy,  x_label='epochs', y_label='Accuracy')"
      ],
      "execution_count": 15,
      "outputs": [
        {
          "output_type": "display_data",
          "data": {
            "image/png": "[encoded data removed]",
            "text/plain": [
              "<Figure size 432x288 with 1 Axes>"
            ]
          },
          "metadata": {
            "needs_background": "light"
          }
        }
      ]
    },
    {
      "cell_type": "code",
      "metadata": {
        "colab": {
          "base_uri": "https://localhost:8080/",
          "height": 294
        },
        "id": "O_8SMDdB7Nwf",
        "outputId": "e7316eac-6fc9-4a2b-ecad-407542fcd51f"
      },
      "source": [
        "\n",
        "plot_combined(trainer_bn.loss, tester_bn.loss,  x_label='epochs', y_label='Loss')"
      ],
      "execution_count": 16,
      "outputs": [
        {
          "output_type": "display_data",
          "data": {
            "image/png": "[encoded data removed]",
            "text/plain": [
              "<Figure size 432x288 with 1 Axes>"
            ]
          },
          "metadata": {
            "needs_background": "light"
          }
        }
      ]
    },
    {
      "cell_type": "code",
      "metadata": {
        "colab": {
          "base_uri": "https://localhost:8080/",
          "height": 542
        },
        "id": "-kJET8ko7RZn",
        "outputId": "7a83f0a1-2289-4e39-a266-853bdf3c95e5"
      },
      "source": [
        "\n",
        "class_list = [0,1,2,3,4,5,6,7,8,9]\n",
        "mean= (0.1307,)\n",
        "std= (0.3081,)\n",
        "results_bn = Results(model_bn, test_loader, device, mean, std, class_list)\n",
        "results_bn.plot_incorrect(2, 5)"
      ],
      "execution_count": 18,
      "outputs": [
        {
          "output_type": "stream",
          "name": "stderr",
          "text": [
            "/usr/local/lib/python3.7/dist-packages/ipykernel_launcher.py:162: UserWarning: Implicit dimension choice for log_softmax has been deprecated. Change the call to include dim=X as an argument.\n"
          ]
        },
        {
          "output_type": "display_data",
          "data": {
            "image/png": "[encoded data removed]",
            "text/plain": [
              "<Figure size 720x720 with 10 Axes>"
            ]
          },
          "metadata": {
            "needs_background": "light"
          }
        }
      ]
    },
    {
      "cell_type": "code",
      "metadata": {
        "colab": {
          "base_uri": "https://localhost:8080/",
          "height": 692
        },
        "id": "1mPYq0Cf7S7J",
        "outputId": "66811216-d906-4ca8-90d7-be107db0d9b8"
      },
      "source": [
        "results_bn.class_accuracy()"
      ],
      "execution_count": 19,
      "outputs": [
        {
          "output_type": "display_data",
          "data": {
            "image/png": "[encoded data removed]",
            "text/plain": [
              "<Figure size 576x576 with 2 Axes>"
            ]
          },
          "metadata": {
            "needs_background": "light"
          }
        },
        {
          "output_type": "stream",
          "name": "stdout",
          "text": [
            "Accuracies of Top 10 Classes in Decreasing Order\n",
            "Accuracy of class 9 is 98.32\n",
            "Accuracy of class 6 is 98.43\n",
            "Accuracy of class 8 is 98.87\n",
            "Accuracy of class 7 is 99.03\n",
            "Accuracy of class 2 is 99.03\n",
            "Accuracy of class 5 is 99.22\n",
            "Accuracy of class 0 is 99.49\n",
            "Accuracy of class 4 is 99.49\n",
            "Accuracy of class 1 is 99.56\n",
            "Accuracy of class 3 is 99.60\n"
          ]
        }
      ]
    },
    {
      "cell_type": "markdown",
      "metadata": {
        "id": "OySg9Tme9UnH"
      },
      "source": [
        "### GROUP NORMALIZATION"
      ]
    },
    {
      "cell_type": "code",
      "metadata": {
        "colab": {
          "base_uri": "https://localhost:8080/"
        },
        "id": "aS1TKOj57V1n",
        "outputId": "c4d75c76-e725-4e17-cf7a-1249012b702b"
      },
      "source": [
        "model_gn = Net('batch').to(device)\n",
        "summary(model_gn, input_size=(1, 28, 28))"
      ],
      "execution_count": 21,
      "outputs": [
        {
          "output_type": "stream",
          "name": "stdout",
          "text": [
            "----------------------------------------------------------------\n",
            "        Layer (type)               Output Shape         Param #\n",
            "================================================================\n",
            "            Conv2d-1            [-1, 8, 28, 28]              72\n",
            "              ReLU-2            [-1, 8, 28, 28]               0\n",
            "       BatchNorm2d-3            [-1, 8, 28, 28]              16\n",
            "         Dropout2d-4            [-1, 8, 28, 28]               0\n",
            "            Conv2d-5            [-1, 8, 28, 28]             576\n",
            "              ReLU-6            [-1, 8, 28, 28]               0\n",
            "       BatchNorm2d-7            [-1, 8, 28, 28]              16\n",
            "         Dropout2d-8            [-1, 8, 28, 28]               0\n",
            "            Conv2d-9            [-1, 8, 28, 28]             576\n",
            "             ReLU-10            [-1, 8, 28, 28]               0\n",
            "      BatchNorm2d-11            [-1, 8, 28, 28]              16\n",
            "        Dropout2d-12            [-1, 8, 28, 28]               0\n",
            "        MaxPool2d-13            [-1, 8, 14, 14]               0\n",
            "           Conv2d-14           [-1, 12, 14, 14]              96\n",
            "           Conv2d-15           [-1, 12, 14, 14]           1,296\n",
            "             ReLU-16           [-1, 12, 14, 14]               0\n",
            "      BatchNorm2d-17           [-1, 12, 14, 14]              24\n",
            "        Dropout2d-18           [-1, 12, 14, 14]               0\n",
            "           Conv2d-19           [-1, 12, 14, 14]           1,296\n",
            "             ReLU-20           [-1, 12, 14, 14]               0\n",
            "      BatchNorm2d-21           [-1, 12, 14, 14]              24\n",
            "        Dropout2d-22           [-1, 12, 14, 14]               0\n",
            "           Conv2d-23           [-1, 12, 14, 14]           1,296\n",
            "             ReLU-24           [-1, 12, 14, 14]               0\n",
            "      BatchNorm2d-25           [-1, 12, 14, 14]              24\n",
            "        Dropout2d-26           [-1, 12, 14, 14]               0\n",
            "           Conv2d-27           [-1, 12, 14, 14]           1,296\n",
            "             ReLU-28           [-1, 12, 14, 14]               0\n",
            "      BatchNorm2d-29           [-1, 12, 14, 14]              24\n",
            "        Dropout2d-30           [-1, 12, 14, 14]               0\n",
            "           Conv2d-31           [-1, 10, 14, 14]           1,080\n",
            "             ReLU-32           [-1, 10, 14, 14]               0\n",
            "      BatchNorm2d-33           [-1, 10, 14, 14]              20\n",
            "        AvgPool2d-34             [-1, 10, 1, 1]               0\n",
            "================================================================\n",
            "Total params: 7,748\n",
            "Trainable params: 7,748\n",
            "Non-trainable params: 0\n",
            "----------------------------------------------------------------\n",
            "Input size (MB): 0.00\n",
            "Forward/backward pass size (MB): 0.94\n",
            "Params size (MB): 0.03\n",
            "Estimated Total Size (MB): 0.97\n",
            "----------------------------------------------------------------\n"
          ]
        },
        {
          "output_type": "stream",
          "name": "stderr",
          "text": [
            "/usr/local/lib/python3.7/dist-packages/ipykernel_launcher.py:166: UserWarning: Implicit dimension choice for log_softmax has been deprecated. Change the call to include dim=X as an argument.\n"
          ]
        }
      ]
    },
    {
      "cell_type": "code",
      "metadata": {
        "colab": {
          "base_uri": "https://localhost:8080/"
        },
        "id": "yGDMqB0m9czc",
        "outputId": "f99687ff-cb0e-4d0e-d1bc-bd2114f93b15"
      },
      "source": [
        "from torch.optim.lr_scheduler import StepLR\n",
        "\n",
        "\n",
        "optimizer = optim.SGD(model_gn.parameters(), lr=0.01, momentum=0.9)\n",
        "scheduler = StepLR(optimizer, step_size= 6, gamma= 0.1)\n",
        "trainer_gn = Train(model_gn, device, train_loader, optimizer)\n",
        "tester_gn = Test(model_gn, device, test_loader)\n",
        "\n",
        "for epoch in range(1, 21):\n",
        "    print(f'Epoch: {epoch}')\n",
        "    train_loss, train_acc = trainer_gn()\n",
        "    scheduler.step()\n",
        "    test_loss, test_acc = tester_gn()\n",
        "    \n",
        "    print('TRAIN set: Average loss: {:.4f}, Train Accuracy: {:.2f}%'.format(train_loss,train_acc), end=' | ')\n",
        "    print('TEST set: Average loss: {:.4f}, Test Accuracy: {:.2f}%'.format(test_loss,test_acc))\n",
        "    print('~~~~~~~~~~~~~~~~~~~~~~~~~~~~~~~~~~~~~~~~~~~~~~~~~~~~~~~~~~')"
      ],
      "execution_count": 24,
      "outputs": [
        {
          "output_type": "stream",
          "name": "stderr",
          "text": [
            "  0%|          | 0/469 [00:00<?, ?it/s]/usr/local/lib/python3.7/dist-packages/ipykernel_launcher.py:166: UserWarning: Implicit dimension choice for log_softmax has been deprecated. Change the call to include dim=X as an argument.\n",
            "loss=0.0571858212351799 batch_id=0:   0%|          | 1/469 [00:00<01:22,  5.70it/s]"
          ]
        },
        {
          "output_type": "stream",
          "name": "stdout",
          "text": [
            "Epoch: 1\n"
          ]
        },
        {
          "output_type": "stream",
          "name": "stderr",
          "text": [
            "loss=0.061755795031785965 batch_id=468: 100%|██████████| 469/469 [01:22<00:00,  5.67it/s]\n"
          ]
        },
        {
          "output_type": "stream",
          "name": "stdout",
          "text": [
            "TRAIN set: Average loss: 0.1057, Train Accuracy: 97.22% | TEST set: Average loss: 0.0409, Test Accuracy: 98.78%\n",
            "~~~~~~~~~~~~~~~~~~~~~~~~~~~~~~~~~~~~~~~~~~~~~~~~~~~~~~~~~~\n",
            "Epoch: 2\n",
            "TRAIN set: Average loss: 0.1017, Train Accuracy: 97.24% | TEST set: Average loss: 0.0398, Test Accuracy: 98.83%\n",
            "~~~~~~~~~~~~~~~~~~~~~~~~~~~~~~~~~~~~~~~~~~~~~~~~~~~~~~~~~~\n",
            "Epoch: 3\n",
            "TRAIN set: Average loss: 0.0945, Train Accuracy: 97.52% | TEST set: Average loss: 0.0341, Test Accuracy: 99.03%\n",
            "~~~~~~~~~~~~~~~~~~~~~~~~~~~~~~~~~~~~~~~~~~~~~~~~~~~~~~~~~~\n",
            "Epoch: 4\n",
            "TRAIN set: Average loss: 0.0904, Train Accuracy: 97.62% | TEST set: Average loss: 0.0360, Test Accuracy: 98.92%\n",
            "~~~~~~~~~~~~~~~~~~~~~~~~~~~~~~~~~~~~~~~~~~~~~~~~~~~~~~~~~~\n",
            "Epoch: 5\n",
            "TRAIN set: Average loss: 0.0884, Train Accuracy: 97.53% | TEST set: Average loss: 0.0374, Test Accuracy: 98.90%\n",
            "~~~~~~~~~~~~~~~~~~~~~~~~~~~~~~~~~~~~~~~~~~~~~~~~~~~~~~~~~~\n",
            "Epoch: 6\n",
            "TRAIN set: Average loss: 0.0844, Train Accuracy: 97.71% | TEST set: Average loss: 0.0320, Test Accuracy: 99.04%\n",
            "~~~~~~~~~~~~~~~~~~~~~~~~~~~~~~~~~~~~~~~~~~~~~~~~~~~~~~~~~~\n",
            "Epoch: 7\n",
            "TRAIN set: Average loss: 0.0756, Train Accuracy: 98.00% | TEST set: Average loss: 0.0294, Test Accuracy: 99.16%\n",
            "~~~~~~~~~~~~~~~~~~~~~~~~~~~~~~~~~~~~~~~~~~~~~~~~~~~~~~~~~~\n",
            "Epoch: 8\n",
            "TRAIN set: Average loss: 0.0726, Train Accuracy: 98.07% | TEST set: Average loss: 0.0281, Test Accuracy: 99.12%\n",
            "~~~~~~~~~~~~~~~~~~~~~~~~~~~~~~~~~~~~~~~~~~~~~~~~~~~~~~~~~~\n",
            "Epoch: 10\n",
            "TRAIN set: Average loss: 0.0711, Train Accuracy: 98.15% | TEST set: Average loss: 0.0289, Test Accuracy: 99.12%\n",
            "~~~~~~~~~~~~~~~~~~~~~~~~~~~~~~~~~~~~~~~~~~~~~~~~~~~~~~~~~~\n",
            "Epoch: 11\n",
            "TRAIN set: Average loss: 0.0706, Train Accuracy: 98.14% | TEST set: Average loss: 0.0281, Test Accuracy: 99.16%\n",
            "~~~~~~~~~~~~~~~~~~~~~~~~~~~~~~~~~~~~~~~~~~~~~~~~~~~~~~~~~~\n",
            "Epoch: 12\n",
            "TRAIN set: Average loss: 0.0704, Train Accuracy: 98.09% | TEST set: Average loss: 0.0272, Test Accuracy: 99.16%\n",
            "~~~~~~~~~~~~~~~~~~~~~~~~~~~~~~~~~~~~~~~~~~~~~~~~~~~~~~~~~~\n",
            "Epoch: 13\n",
            "TRAIN set: Average loss: 0.0698, Train Accuracy: 98.07% | TEST set: Average loss: 0.0272, Test Accuracy: 99.20%\n",
            "~~~~~~~~~~~~~~~~~~~~~~~~~~~~~~~~~~~~~~~~~~~~~~~~~~~~~~~~~~\n",
            "Epoch: 14\n",
            "TRAIN set: Average loss: 0.0682, Train Accuracy: 98.22% | TEST set: Average loss: 0.0275, Test Accuracy: 99.19%\n",
            "~~~~~~~~~~~~~~~~~~~~~~~~~~~~~~~~~~~~~~~~~~~~~~~~~~~~~~~~~~\n",
            "Epoch: 15\n",
            "TRAIN set: Average loss: 0.0681, Train Accuracy: 98.15% | TEST set: Average loss: 0.0271, Test Accuracy: 99.19%\n",
            "~~~~~~~~~~~~~~~~~~~~~~~~~~~~~~~~~~~~~~~~~~~~~~~~~~~~~~~~~~\n",
            "Epoch: 16\n",
            "TRAIN set: Average loss: 0.0689, Train Accuracy: 98.14% | TEST set: Average loss: 0.0273, Test Accuracy: 99.16%\n",
            "~~~~~~~~~~~~~~~~~~~~~~~~~~~~~~~~~~~~~~~~~~~~~~~~~~~~~~~~~~\n",
            "Epoch: 17\n",
            "TRAIN set: Average loss: 0.0694, Train Accuracy: 98.12% | TEST set: Average loss: 0.0272, Test Accuracy: 99.20%\n",
            "~~~~~~~~~~~~~~~~~~~~~~~~~~~~~~~~~~~~~~~~~~~~~~~~~~~~~~~~~~\n",
            "Epoch: 18\n",
            "TRAIN set: Average loss: 0.0696, Train Accuracy: 98.17% | TEST set: Average loss: 0.0282, Test Accuracy: 99.18%\n",
            "~~~~~~~~~~~~~~~~~~~~~~~~~~~~~~~~~~~~~~~~~~~~~~~~~~~~~~~~~~\n",
            "Epoch: 19\n",
            "TRAIN set: Average loss: 0.0690, Train Accuracy: 98.14% | TEST set: Average loss: 0.0269, Test Accuracy: 99.21%\n",
            "~~~~~~~~~~~~~~~~~~~~~~~~~~~~~~~~~~~~~~~~~~~~~~~~~~~~~~~~~~\n",
            "Epoch: 20\n",
            "TRAIN set: Average loss: 0.0690, Train Accuracy: 98.10% | TEST set: Average loss: 0.0277, Test Accuracy: 99.21%\n",
            "~~~~~~~~~~~~~~~~~~~~~~~~~~~~~~~~~~~~~~~~~~~~~~~~~~~~~~~~~~\n"
          ]
        }
      ]
    },
    {
      "cell_type": "code",
      "metadata": {
        "colab": {
          "base_uri": "https://localhost:8080/"
        },
        "id": "3mtfcUlKS7eD",
        "outputId": "e87fad8b-aada-40fa-b0bb-206863538193"
      },
      "source": [
        "print('Train Accuracy:', max(trainer_gn.accuracy))\n",
        "print('Test Accuracy:', max(tester_gn.accuracy))"
      ],
      "execution_count": 25,
      "outputs": [
        {
          "output_type": "stream",
          "name": "stdout",
          "text": [
            "Train Accuracy: 98.22333333333333\n",
            "Test Accuracy: 99.21\n"
          ]
        }
      ]
    },
    {
      "cell_type": "code",
      "metadata": {
        "colab": {
          "base_uri": "https://localhost:8080/",
          "height": 294
        },
        "id": "cqV10dRGS_yD",
        "outputId": "4aae513a-7108-42e8-96c4-e86cda1e23de"
      },
      "source": [
        "plot_combined(trainer_gn.accuracy, tester_gn.accuracy,  x_label='epochs', y_label='Accuracy')"
      ],
      "execution_count": 26,
      "outputs": [
        {
          "output_type": "display_data",
          "data": {
            "image/png": "[encoded data removed]",
            "text/plain": [
              "<Figure size 432x288 with 1 Axes>"
            ]
          },
          "metadata": {
            "needs_background": "light"
          }
        }
      ]
    },
    {
      "cell_type": "code",
      "metadata": {
        "colab": {
          "base_uri": "https://localhost:8080/",
          "height": 294
        },
        "id": "y94-32xATBM6",
        "outputId": "39978331-ffd6-48e6-a379-846a4a8ae62c"
      },
      "source": [
        "plot_combined(trainer_gn.loss, tester_gn.loss,  x_label='epochs', y_label='Loss')"
      ],
      "execution_count": 27,
      "outputs": [
        {
          "output_type": "display_data",
          "data": {
            "image/png": "[encoded data removed]",
            "text/plain": [
              "<Figure size 432x288 with 1 Axes>"
            ]
          },
          "metadata": {
            "needs_background": "light"
          }
        }
      ]
    },
    {
      "cell_type": "code",
      "metadata": {
        "colab": {
          "base_uri": "https://localhost:8080/",
          "height": 542
        },
        "id": "g654cZOQTC6r",
        "outputId": "1aeed2a3-dcb6-4ebd-ffbc-bac9f8a3e321"
      },
      "source": [
        "\n",
        "class_list = [0,1,2,3,4,5,6,7,8,9]\n",
        "mean= (0.1307,)\n",
        "std= (0.3081,)\n",
        "results_gn = Results(model_gn, test_loader, device, mean, std, class_list)\n",
        "results_gn.plot_incorrect(2, 5)"
      ],
      "execution_count": 28,
      "outputs": [
        {
          "output_type": "stream",
          "name": "stderr",
          "text": [
            "/usr/local/lib/python3.7/dist-packages/ipykernel_launcher.py:166: UserWarning: Implicit dimension choice for log_softmax has been deprecated. Change the call to include dim=X as an argument.\n"
          ]
        },
        {
          "output_type": "display_data",
          "data": {
            "image/png": "[encoded data removed]",
            "text/plain": [
              "<Figure size 720x720 with 10 Axes>"
            ]
          },
          "metadata": {
            "needs_background": "light"
          }
        }
      ]
    },
    {
      "cell_type": "code",
      "metadata": {
        "colab": {
          "base_uri": "https://localhost:8080/"
        },
        "id": "ZLGwo-DhTIoU",
        "outputId": "c9ec1c55-d895-48e5-a4db-15058c93dd8b"
      },
      "source": [
        "model_ln = Net('layer').to(device)\n",
        "summary(model_ln, input_size=(1, 28, 28))"
      ],
      "execution_count": 29,
      "outputs": [
        {
          "output_type": "stream",
          "name": "stdout",
          "text": [
            "----------------------------------------------------------------\n",
            "        Layer (type)               Output Shape         Param #\n",
            "================================================================\n",
            "            Conv2d-1            [-1, 8, 28, 28]              72\n",
            "              ReLU-2            [-1, 8, 28, 28]               0\n",
            "         GroupNorm-3            [-1, 8, 28, 28]              16\n",
            "         Dropout2d-4            [-1, 8, 28, 28]               0\n",
            "            Conv2d-5            [-1, 8, 28, 28]             576\n",
            "              ReLU-6            [-1, 8, 28, 28]               0\n",
            "         GroupNorm-7            [-1, 8, 28, 28]              16\n",
            "         Dropout2d-8            [-1, 8, 28, 28]               0\n",
            "            Conv2d-9            [-1, 8, 28, 28]             576\n",
            "             ReLU-10            [-1, 8, 28, 28]               0\n",
            "        GroupNorm-11            [-1, 8, 28, 28]              16\n",
            "        Dropout2d-12            [-1, 8, 28, 28]               0\n",
            "        MaxPool2d-13            [-1, 8, 14, 14]               0\n",
            "           Conv2d-14           [-1, 12, 14, 14]              96\n",
            "           Conv2d-15           [-1, 12, 14, 14]           1,296\n",
            "             ReLU-16           [-1, 12, 14, 14]               0\n",
            "        GroupNorm-17           [-1, 12, 14, 14]              24\n",
            "        Dropout2d-18           [-1, 12, 14, 14]               0\n",
            "           Conv2d-19           [-1, 12, 14, 14]           1,296\n",
            "             ReLU-20           [-1, 12, 14, 14]               0\n",
            "        GroupNorm-21           [-1, 12, 14, 14]              24\n",
            "        Dropout2d-22           [-1, 12, 14, 14]               0\n",
            "           Conv2d-23           [-1, 12, 14, 14]           1,296\n",
            "             ReLU-24           [-1, 12, 14, 14]               0\n",
            "        GroupNorm-25           [-1, 12, 14, 14]              24\n",
            "        Dropout2d-26           [-1, 12, 14, 14]               0\n",
            "           Conv2d-27           [-1, 12, 14, 14]           1,296\n",
            "             ReLU-28           [-1, 12, 14, 14]               0\n",
            "        GroupNorm-29           [-1, 12, 14, 14]              24\n",
            "        Dropout2d-30           [-1, 12, 14, 14]               0\n",
            "           Conv2d-31           [-1, 10, 14, 14]           1,080\n",
            "             ReLU-32           [-1, 10, 14, 14]               0\n",
            "        GroupNorm-33           [-1, 10, 14, 14]              20\n",
            "        AvgPool2d-34             [-1, 10, 1, 1]               0\n",
            "================================================================\n",
            "Total params: 7,748\n",
            "Trainable params: 7,748\n",
            "Non-trainable params: 0\n",
            "----------------------------------------------------------------\n",
            "Input size (MB): 0.00\n",
            "Forward/backward pass size (MB): 0.94\n",
            "Params size (MB): 0.03\n",
            "Estimated Total Size (MB): 0.97\n",
            "----------------------------------------------------------------\n"
          ]
        },
        {
          "output_type": "stream",
          "name": "stderr",
          "text": [
            "/usr/local/lib/python3.7/dist-packages/ipykernel_launcher.py:166: UserWarning: Implicit dimension choice for log_softmax has been deprecated. Change the call to include dim=X as an argument.\n"
          ]
        }
      ]
    },
    {
      "cell_type": "code",
      "metadata": {
        "colab": {
          "base_uri": "https://localhost:8080/"
        },
        "id": "5R80LO11TRd1",
        "outputId": "c4ffe2a3-5672-4feb-a525-7393211c3b64"
      },
      "source": [
        "from torch.optim.lr_scheduler import StepLR\n",
        "\n",
        "\n",
        "optimizer = optim.SGD(model_ln.parameters(), lr=0.01, momentum=0.9)\n",
        "scheduler = StepLR(optimizer, step_size= 6, gamma= 0.1)\n",
        "trainer_ln = Train(model_ln, device, train_loader, optimizer)\n",
        "tester_ln = Test(model_ln, device, test_loader)\n",
        "\n",
        "for epoch in range(1, 21):\n",
        "    print(f'Epoch: {epoch}')\n",
        "    train_loss, train_acc = trainer_ln()\n",
        "    scheduler.step()\n",
        "    test_loss, test_acc = tester_ln()\n",
        "    \n",
        "    print('TRAIN set: Average loss: {:.4f}, Train Accuracy: {:.2f}%'.format(train_loss,train_acc), end=' | ')\n",
        "    print('TEST set: Average loss: {:.4f}, Test Accuracy: {:.2f}%'.format(test_loss,test_acc))\n",
        "    print('~~~~~~~~~~~~~~~~~~~~~~~~~~~~~~~~~~~~~~~~~~~~~~~~~~~~~~~~~~')"
      ],
      "execution_count": 31,
      "outputs": [
        {
          "metadata": {
            "tags": null
          },
          "name": "stderr",
          "output_type": "stream",
          "text": [
            "  0%|          | 0/469 [00:00<?, ?it/s]/usr/local/lib/python3.7/dist-packages/ipykernel_launcher.py:166: UserWarning: Implicit dimension choice for log_softmax has been deprecated. Change the call to include dim=X as an argument.\n",
            "loss=2.4216771125793457 batch_id=0:   0%|          | 1/469 [00:00<01:10,  6.66it/s]"
          ]
        },
        {
          "metadata": {
            "tags": null
          },
          "name": "stdout",
          "output_type": "stream",
          "text": [
            "Epoch: 1\n"
          ]
        },
        {
          "metadata": {
            "tags": null
          },
          "name": "stderr",
          "output_type": "stream",
          "text": [
            "loss=0.282284677028656 batch_id=468: 100%|██████████| 469/469 [01:10<00:00,  6.63it/s]\n"
          ]
        },
        {
          "output_type": "stream",
          "name": "stdout",
          "text": [
            "TRAIN set: Average loss: 0.7318, Train Accuracy: 80.41% | TEST set: Average loss: 0.1196, Test Accuracy: 96.64%\n",
            "~~~~~~~~~~~~~~~~~~~~~~~~~~~~~~~~~~~~~~~~~~~~~~~~~~~~~~~~~~\n",
            "Epoch: 2\n",
            "TRAIN set: Average loss: 0.2170, Train Accuracy: 94.50% | TEST set: Average loss: 0.0812, Test Accuracy: 97.66%\n",
            "~~~~~~~~~~~~~~~~~~~~~~~~~~~~~~~~~~~~~~~~~~~~~~~~~~~~~~~~~~\n",
            "Epoch: 3\n",
            "TRAIN set: Average loss: 0.1557, Train Accuracy: 95.90% | TEST set: Average loss: 0.0573, Test Accuracy: 98.35%\n",
            "~~~~~~~~~~~~~~~~~~~~~~~~~~~~~~~~~~~~~~~~~~~~~~~~~~~~~~~~~~\n",
            "Epoch: 4\n",
            "TRAIN set: Average loss: 0.1313, Train Accuracy: 96.46% | TEST set: Average loss: 0.0556, Test Accuracy: 98.22%\n",
            "~~~~~~~~~~~~~~~~~~~~~~~~~~~~~~~~~~~~~~~~~~~~~~~~~~~~~~~~~~\n",
            "Epoch: 5\n",
            "TRAIN set: Average loss: 0.1141, Train Accuracy: 96.88% | TEST set: Average loss: 0.0455, Test Accuracy: 98.75%\n",
            "~~~~~~~~~~~~~~~~~~~~~~~~~~~~~~~~~~~~~~~~~~~~~~~~~~~~~~~~~~\n",
            "Epoch: 6\n",
            "TRAIN set: Average loss: 0.1057, Train Accuracy: 97.09% | TEST set: Average loss: 0.0478, Test Accuracy: 98.55%\n",
            "~~~~~~~~~~~~~~~~~~~~~~~~~~~~~~~~~~~~~~~~~~~~~~~~~~~~~~~~~~\n",
            "Epoch: 7\n",
            "TRAIN set: Average loss: 0.0819, Train Accuracy: 97.78% | TEST set: Average loss: 0.0338, Test Accuracy: 98.98%\n",
            "~~~~~~~~~~~~~~~~~~~~~~~~~~~~~~~~~~~~~~~~~~~~~~~~~~~~~~~~~~\n",
            "Epoch: 8\n",
            "TRAIN set: Average loss: 0.0789, Train Accuracy: 97.83% | TEST set: Average loss: 0.0332, Test Accuracy: 99.01%\n",
            "~~~~~~~~~~~~~~~~~~~~~~~~~~~~~~~~~~~~~~~~~~~~~~~~~~~~~~~~~~\n",
            "Epoch: 9\n",
            "TRAIN set: Average loss: 0.0814, Train Accuracy: 97.81% | TEST set: Average loss: 0.0335, Test Accuracy: 98.96%\n",
            "~~~~~~~~~~~~~~~~~~~~~~~~~~~~~~~~~~~~~~~~~~~~~~~~~~~~~~~~~~\n",
            "Epoch: 10\n",
            "TRAIN set: Average loss: 0.0761, Train Accuracy: 97.89% | TEST set: Average loss: 0.0322, Test Accuracy: 99.06%\n",
            "~~~~~~~~~~~~~~~~~~~~~~~~~~~~~~~~~~~~~~~~~~~~~~~~~~~~~~~~~~\n",
            "Epoch: 11\n",
            "TRAIN set: Average loss: 0.0770, Train Accuracy: 97.95% | TEST set: Average loss: 0.0322, Test Accuracy: 99.08%\n",
            "~~~~~~~~~~~~~~~~~~~~~~~~~~~~~~~~~~~~~~~~~~~~~~~~~~~~~~~~~~\n",
            "Epoch: 12\n",
            "TRAIN set: Average loss: 0.0745, Train Accuracy: 97.94% | TEST set: Average loss: 0.0310, Test Accuracy: 99.12%\n",
            "~~~~~~~~~~~~~~~~~~~~~~~~~~~~~~~~~~~~~~~~~~~~~~~~~~~~~~~~~~\n",
            "Epoch: 13\n",
            "TRAIN set: Average loss: 0.0731, Train Accuracy: 98.03% | TEST set: Average loss: 0.0311, Test Accuracy: 99.11%\n",
            "~~~~~~~~~~~~~~~~~~~~~~~~~~~~~~~~~~~~~~~~~~~~~~~~~~~~~~~~~~\n",
            "Epoch: 14\n",
            "TRAIN set: Average loss: 0.0747, Train Accuracy: 97.92% | TEST set: Average loss: 0.0310, Test Accuracy: 99.09%\n",
            "~~~~~~~~~~~~~~~~~~~~~~~~~~~~~~~~~~~~~~~~~~~~~~~~~~~~~~~~~~\n",
            "Epoch: 15\n",
            "TRAIN set: Average loss: 0.0745, Train Accuracy: 97.94% | TEST set: Average loss: 0.0311, Test Accuracy: 99.12%\n",
            "~~~~~~~~~~~~~~~~~~~~~~~~~~~~~~~~~~~~~~~~~~~~~~~~~~~~~~~~~~\n",
            "Epoch: 16\n",
            "TRAIN set: Average loss: 0.0734, Train Accuracy: 97.97% | TEST set: Average loss: 0.0312, Test Accuracy: 99.10%\n",
            "~~~~~~~~~~~~~~~~~~~~~~~~~~~~~~~~~~~~~~~~~~~~~~~~~~~~~~~~~~\n",
            "Epoch: 17\n",
            "TRAIN set: Average loss: 0.0744, Train Accuracy: 97.89% | TEST set: Average loss: 0.0312, Test Accuracy: 99.06%\n",
            "~~~~~~~~~~~~~~~~~~~~~~~~~~~~~~~~~~~~~~~~~~~~~~~~~~~~~~~~~~\n",
            "Epoch: 18\n",
            "TRAIN set: Average loss: 0.0745, Train Accuracy: 97.95% | TEST set: Average loss: 0.0310, Test Accuracy: 99.07%\n",
            "~~~~~~~~~~~~~~~~~~~~~~~~~~~~~~~~~~~~~~~~~~~~~~~~~~~~~~~~~~\n",
            "Epoch: 19\n",
            "TRAIN set: Average loss: 0.0745, Train Accuracy: 97.98% | TEST set: Average loss: 0.0309, Test Accuracy: 99.07%\n",
            "~~~~~~~~~~~~~~~~~~~~~~~~~~~~~~~~~~~~~~~~~~~~~~~~~~~~~~~~~~\n",
            "Epoch: 20\n",
            "TRAIN set: Average loss: 0.0732, Train Accuracy: 97.97% | TEST set: Average loss: 0.0310, Test Accuracy: 99.06%\n",
            "~~~~~~~~~~~~~~~~~~~~~~~~~~~~~~~~~~~~~~~~~~~~~~~~~~~~~~~~~~\n"
          ]
        }
      ]
    },
    {
      "cell_type": "code",
      "metadata": {
        "colab": {
          "base_uri": "https://localhost:8080/"
        },
        "id": "5oRLOASvTWWO",
        "outputId": "9473be0e-3a88-48d1-9a2f-9cd64df60eaf"
      },
      "source": [
        "\n",
        "print('Train Accuracy:', max(trainer_ln.accuracy))\n",
        "print('Test Accuracy:', max(tester_ln.accuracy))"
      ],
      "execution_count": 32,
      "outputs": [
        {
          "output_type": "stream",
          "name": "stdout",
          "text": [
            "Train Accuracy: 98.025\n",
            "Test Accuracy: 99.12\n"
          ]
        }
      ]
    },
    {
      "cell_type": "code",
      "metadata": {
        "colab": {
          "base_uri": "https://localhost:8080/",
          "height": 294
        },
        "id": "WDBEv_7CTYlL",
        "outputId": "72d496dd-8ed4-44d6-9a83-9fff4f7de843"
      },
      "source": [
        "plot_combined(trainer_ln.accuracy, tester_ln.accuracy,  x_label='epochs', y_label='Accuracy')"
      ],
      "execution_count": 33,
      "outputs": [
        {
          "output_type": "display_data",
          "data": {
            "image/png": "[encoded data removed]",
            "text/plain": [
              "<Figure size 432x288 with 1 Axes>"
            ]
          },
          "metadata": {
            "needs_background": "light"
          }
        }
      ]
    },
    {
      "cell_type": "code",
      "metadata": {
        "colab": {
          "base_uri": "https://localhost:8080/",
          "height": 294
        },
        "id": "rPXa9lSkTaG6",
        "outputId": "d62f6265-e4cf-45c4-8059-ed07382598b6"
      },
      "source": [
        "\n",
        "plot_combined(trainer_ln.loss, tester_ln.loss,  x_label='epochs', y_label='Loss')"
      ],
      "execution_count": 34,
      "outputs": [
        {
          "output_type": "display_data",
          "data": {
            "image/png": "[encoded data removed]",
            "text/plain": [
              "<Figure size 432x288 with 1 Axes>"
            ]
          },
          "metadata": {
            "needs_background": "light"
          }
        }
      ]
    },
    {
      "cell_type": "code",
      "metadata": {
        "colab": {
          "base_uri": "https://localhost:8080/"
        },
        "id": "tvC0gmcDTbpC",
        "outputId": "e0b75e76-b216-4e5d-80c5-8e4457eab44e"
      },
      "source": [
        "\n",
        "class_list = [0,1,2,3,4,5,6,7,8,9]\n",
        "mean= (0.1307,)\n",
        "std= (0.3081,)\n",
        "results_ln = Results(model_ln, test_loader, device, mean, std, class_list)"
      ],
      "execution_count": 35,
      "outputs": [
        {
          "output_type": "stream",
          "name": "stderr",
          "text": [
            "/usr/local/lib/python3.7/dist-packages/ipykernel_launcher.py:166: UserWarning: Implicit dimension choice for log_softmax has been deprecated. Change the call to include dim=X as an argument.\n"
          ]
        }
      ]
    },
    {
      "cell_type": "code",
      "metadata": {
        "colab": {
          "base_uri": "https://localhost:8080/",
          "height": 504
        },
        "id": "L5bS70qLTdTt",
        "outputId": "081ca540-e1f5-44b1-99b7-0030b1b1c48b"
      },
      "source": [
        "results_ln.plot_incorrect(2, 5)"
      ],
      "execution_count": 36,
      "outputs": [
        {
          "output_type": "display_data",
          "data": {
            "image/png": "[encoded data removed]",
            "text/plain": [
              "<Figure size 720x720 with 10 Axes>"
            ]
          },
          "metadata": {
            "needs_background": "light"
          }
        }
      ]
    },
    {
      "cell_type": "code",
      "metadata": {
        "id": "-fWpalErTfvK"
      },
      "source": [
        "def plot_combined(list_of_plotters, *, x_label='epochs', y_label='Accuracy', title='Test vs Train', legend = ['Train', \"Test\"]):\n",
        "    '''\n",
        "    Plot multiple list of values, in a single plot.\n",
        "    Parameters:\n",
        "        list_of_plotters: A List of Accuracies/Loss which are arrays/lists.\n",
        "        x_label: The X Axis Label (Optional Keywork Argument)\n",
        "        y_label: The Y Axis Label (Optional Keywork Argument)\n",
        "        title: The Title of the Graph (Optional Keywork Argument)\n",
        "        legend: The Legend to be printed on Chart (Optional Keywork Argument) \n",
        "    '''\n",
        "    plt.axes(xlabel= x_label, ylabel= y_label)\n",
        "    for plotting_list in list_of_plotters:\n",
        "        plt.plot(plotting_list)\n",
        "    plt.title(title)\n",
        "    plt.legend(legend)"
      ],
      "execution_count": 37,
      "outputs": []
    },
    {
      "cell_type": "code",
      "metadata": {
        "id": "Pqs7qAmLTfp_"
      },
      "source": [
        "list_test_acc = [tester_bn.accuracy, tester_gn.accuracy, tester_ln.accuracy]\n",
        "list_test_loss = [tester_bn.loss, tester_gn.loss, tester_ln.loss]"
      ],
      "execution_count": 38,
      "outputs": []
    },
    {
      "cell_type": "code",
      "metadata": {
        "colab": {
          "base_uri": "https://localhost:8080/",
          "height": 294
        },
        "id": "EJ7yBxF5TkWl",
        "outputId": "472107fd-c51f-4114-d1ab-5f7f95785443"
      },
      "source": [
        "plot_combined(list_test_acc, legend=[\"Batch Norm\", \"Group Norm\", \"Layer Norm\"])"
      ],
      "execution_count": 39,
      "outputs": [
        {
          "output_type": "display_data",
          "data": {
            "image/png": "[encoded data removed]",
            "text/plain": [
              "<Figure size 432x288 with 1 Axes>"
            ]
          },
          "metadata": {
            "needs_background": "light"
          }
        }
      ]
    },
    {
      "cell_type": "code",
      "metadata": {
        "colab": {
          "base_uri": "https://localhost:8080/",
          "height": 294
        },
        "id": "7GAJ1PPQTmCG",
        "outputId": "fe69add8-2c67-4556-ae8a-6a8b40c3d8d4"
      },
      "source": [
        "\n",
        "plot_combined(list_test_loss, legend=[\"Batch Norm\", \"Group Norm\", \"Layer Norm\"], y_label=\"Loss\")"
      ],
      "execution_count": 40,
      "outputs": [
        {
          "output_type": "display_data",
          "data": {
            "image/png": "[encoded data removed]",
            "text/plain": [
              "<Figure size 432x288 with 1 Axes>"
            ]
          },
          "metadata": {
            "needs_background": "light"
          }
        }
      ]
    }
  ]
}